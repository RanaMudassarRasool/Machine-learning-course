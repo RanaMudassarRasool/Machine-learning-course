{
  "nbformat": 4,
  "nbformat_minor": 0,
  "metadata": {
    "colab": {
      "provenance": [],
      "authorship_tag": "ABX9TyN9adiTaq4cwcs7rYQUe+K5",
      "include_colab_link": true
    },
    "kernelspec": {
      "name": "python3",
      "display_name": "Python 3"
    },
    "language_info": {
      "name": "python"
    }
  },
  "cells": [
    {
      "cell_type": "markdown",
      "metadata": {
        "id": "view-in-github",
        "colab_type": "text"
      },
      "source": [
        "<a href=\"https://colab.research.google.com/github/ranamaddy/Machine-learning-course/blob/main/1_4_input_process_output.ipynb\" target=\"_parent\"><img src=\"https://colab.research.google.com/assets/colab-badge.svg\" alt=\"Open In Colab\"/></a>"
      ]
    },
    {
      "cell_type": "markdown",
      "source": [
        "# intput  keyword input()\n",
        "# process\n",
        "# output    print()\n"
      ],
      "metadata": {
        "id": "poCEsV_zmo5x"
      }
    },
    {
      "cell_type": "code",
      "execution_count": 2,
      "metadata": {
        "colab": {
          "base_uri": "https://localhost:8080/"
        },
        "id": "orjb-EzJmn6w",
        "outputId": "c9a5b2b8-1515-42b8-a6ef-b13471371892"
      },
      "outputs": [
        {
          "output_type": "stream",
          "name": "stdout",
          "text": [
            "enter the value 12\n",
            "24\n"
          ]
        }
      ],
      "source": [
        "a = int(input(\"enter the value \"))\n",
        "r= a*2\n",
        "print(r)"
      ]
    },
    {
      "cell_type": "markdown",
      "source": [
        "AVG of 3 numbers"
      ],
      "metadata": {
        "id": "P9l3uvYenntF"
      }
    },
    {
      "cell_type": "code",
      "source": [
        "\n",
        "a = int(input(\"enter value 1 \"))\n",
        "b = int(input(\"enter value 2 \"))\n",
        "c = int(input(\"enter value 3 \"))\n",
        "avg = (a+b+c)/3\n",
        "\n",
        "print(avg)"
      ],
      "metadata": {
        "colab": {
          "base_uri": "https://localhost:8080/"
        },
        "id": "kDusqF1HnrA-",
        "outputId": "cb9ed5f2-c425-49f9-f46f-7fc406457b9f"
      },
      "execution_count": 4,
      "outputs": [
        {
          "output_type": "stream",
          "name": "stdout",
          "text": [
            "enter value 1 3\n",
            "enter value 2 4\n",
            "enter value 3 5\n",
            "4.0\n"
          ]
        }
      ]
    },
    {
      "cell_type": "code",
      "source": [
        "bookq = int(input(\"enter book quantity\"))\n",
        "price= bookq*10\n",
        "print(price)"
      ],
      "metadata": {
        "colab": {
          "base_uri": "https://localhost:8080/"
        },
        "id": "czr0qQ1KoOMf",
        "outputId": "ba00ffb5-d5bd-4327-b7d8-4c637791f608"
      },
      "execution_count": 5,
      "outputs": [
        {
          "output_type": "stream",
          "name": "stdout",
          "text": [
            "enter book quantity5\n",
            "50\n"
          ]
        }
      ]
    },
    {
      "cell_type": "markdown",
      "source": [
        "paper 3 subject each 100\n",
        "total marks 300"
      ],
      "metadata": {
        "id": "P8gIHIEsozVy"
      }
    },
    {
      "cell_type": "code",
      "source": [
        "p1= int(input(\"enter marks p1 \"))\n",
        "p2= int(input(\"enter marks p2 \"))\n",
        "p3= int(input(\"enter marks p3 \"))\n",
        "pc = (p1+p2+p3)/300 *100\n",
        "print(pc)\n"
      ],
      "metadata": {
        "colab": {
          "base_uri": "https://localhost:8080/"
        },
        "id": "wlLUzdkWovYk",
        "outputId": "490213ea-277d-4a18-ffb8-bfadb51a371a"
      },
      "execution_count": 6,
      "outputs": [
        {
          "output_type": "stream",
          "name": "stdout",
          "text": [
            "enter marks p1 50\n",
            "enter marks p2 50\n",
            "enter marks p3 50\n",
            "50.0\n"
          ]
        }
      ]
    },
    {
      "cell_type": "code",
      "source": [
        "# input 1st value  in a\n",
        "a= int(input(\"enter value\"))\n",
        "# input 2 value in b\n",
        "b= int(input(\"enter value\"))\n",
        "# calculate result on formula\n",
        "fr=a**2 + b**2 + 2*a*b\n",
        "# display the result\n",
        "print(fr)\n",
        "\n"
      ],
      "metadata": {
        "colab": {
          "base_uri": "https://localhost:8080/"
        },
        "id": "Y0IYq14jpkRc",
        "outputId": "c005b51d-9a19-46e1-c07d-da243cc30637"
      },
      "execution_count": 8,
      "outputs": [
        {
          "output_type": "stream",
          "name": "stdout",
          "text": [
            "enter value2\n",
            "enter value3\n",
            "25\n"
          ]
        }
      ]
    },
    {
      "cell_type": "code",
      "source": [
        "# input the radius of the circle\n",
        "r = float(input(\"Enter the radius of the circle: \"))\n",
        "# calculate the area of the circle\n",
        "area = 3.14 * r**2\n",
        "# display the area of the circle\n",
        "print(\"The area of the circle is:\", area)\n"
      ],
      "metadata": {
        "colab": {
          "base_uri": "https://localhost:8080/"
        },
        "id": "LhouI4IGrD5G",
        "outputId": "9ba90b34-42ce-4c5f-da5e-661d16669f5b"
      },
      "execution_count": 9,
      "outputs": [
        {
          "output_type": "stream",
          "name": "stdout",
          "text": [
            "Enter the radius of the circle: 34\n",
            "The area of the circle is: 3629.84\n"
          ]
        }
      ]
    }
  ]
}