{
  "nbformat": 4,
  "nbformat_minor": 0,
  "metadata": {
    "colab": {
      "provenance": [],
      "include_colab_link": true
    },
    "kernelspec": {
      "display_name": "Python 3",
      "language": "python",
      "name": "python3"
    }
  },
  "cells": [
    {
      "cell_type": "markdown",
      "metadata": {
        "id": "view-in-github",
        "colab_type": "text"
      },
      "source": [
        "<a href=\"https://colab.research.google.com/github/ranamaddy/Machine-learning-course/blob/main/2_if_elif_else.ipynb\" target=\"_parent\"><img src=\"https://colab.research.google.com/assets/colab-badge.svg\" alt=\"Open In Colab\"/></a>"
      ]
    },
    {
      "metadata": {
        "id": "I9BsPCXXefQ_"
      },
      "cell_type": "markdown",
      "source": [
        "# Python if ... else Statement"
      ]
    },
    {
      "metadata": {
        "id": "KcH_APWeefQ_"
      },
      "cell_type": "markdown",
      "source": [
        "The **if…elif…else** statement is used in Python for decision making."
      ]
    },
    {
      "metadata": {
        "id": "B4c_NjAlefRA"
      },
      "cell_type": "markdown",
      "source": [
        "# if statement syntax\n",
        "![Python_if_statement.jpg](data:image/jpeg;base64,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)"
      ]
    },
    {
      "cell_type": "markdown",
      "source": [
        "#  > , < >= <= == !="
      ],
      "metadata": {
        "id": "H1OP1zG37wxi"
      }
    },
    {
      "cell_type": "code",
      "source": [
        "print(13<=15)"
      ],
      "metadata": {
        "colab": {
          "base_uri": "https://localhost:8080/"
        },
        "id": "_4ElSdzK8AF_",
        "outputId": "4f0757bc-4b43-4c5f-9c23-4f1f441f8b06"
      },
      "execution_count": 10,
      "outputs": [
        {
          "output_type": "stream",
          "name": "stdout",
          "text": [
            "True\n"
          ]
        }
      ]
    },
    {
      "metadata": {
        "id": "kJmNXz9_efRB"
      },
      "cell_type": "markdown",
      "source": [
        "    if test expression:\n",
        "\n",
        "        statement(s)"
      ]
    },
    {
      "cell_type": "code",
      "source": [
        "n=int(input(\"enter your marks \"))\n",
        "if n > 50 :\n",
        " print(\"pass\")\n",
        " print(\"congrats...\")"
      ],
      "metadata": {
        "colab": {
          "base_uri": "https://localhost:8080/"
        },
        "id": "2BU3_qiq8wGl",
        "outputId": "15dcb061-b6c6-421f-ed1a-3e2ba1be38ab"
      },
      "execution_count": 18,
      "outputs": [
        {
          "output_type": "stream",
          "name": "stdout",
          "text": [
            "enter your marks 54\n",
            "pass\n",
            "congrats...\n"
          ]
        }
      ]
    },
    {
      "cell_type": "code",
      "source": [
        "n=int(input(\"enter your marks \"))\n",
        "if n > 50 :\n",
        " print(\"pass..\")\n",
        "if n <50 :\n",
        "  print(\"Fail..\")"
      ],
      "metadata": {
        "colab": {
          "base_uri": "https://localhost:8080/"
        },
        "id": "UmbWNacV9rH_",
        "outputId": "84e9c4fc-59a8-48a7-819a-39455018a8d6"
      },
      "execution_count": 19,
      "outputs": [
        {
          "output_type": "stream",
          "name": "stdout",
          "text": [
            "enter your marks 33\n",
            "Fail..\n"
          ]
        }
      ]
    },
    {
      "cell_type": "code",
      "source": [
        "n=int(input(\"enter your marks \"))\n",
        "if n > 0 :\n",
        "  print(\" number is +tive\")\n",
        "if n< 0 :\n",
        "  print(\"number is - Tive \")\n",
        "if n == 0 :\n",
        "  print (\" number is 0 \")\n"
      ],
      "metadata": {
        "colab": {
          "base_uri": "https://localhost:8080/"
        },
        "id": "ySxEtR0x-Iik",
        "outputId": "493d0fe0-b4be-4769-ba30-326545223486"
      },
      "execution_count": 22,
      "outputs": [
        {
          "output_type": "stream",
          "name": "stdout",
          "text": [
            "enter your marks 0\n",
            " number is 0 \n"
          ]
        }
      ]
    },
    {
      "cell_type": "code",
      "source": [
        "n1=int(input(\"enter your number \"))\n",
        "n2=int(input(\"enter your number \"))\n",
        "n3=int(input(\"enter your number \"))\n",
        "n4=int(input(\"enter your number \"))\n",
        "max=n1\n",
        "if n2>max:\n",
        "  max=n2\n",
        "if n3 > max :\n",
        "  max = n3\n",
        "if n4 > max :\n",
        "  max = n4\n",
        "\n",
        "print(max )\n"
      ],
      "metadata": {
        "colab": {
          "base_uri": "https://localhost:8080/"
        },
        "id": "rqiyutUf-_J2",
        "outputId": "3acacd73-a110-447b-a44d-7ccee54ee8fd"
      },
      "execution_count": 23,
      "outputs": [
        {
          "output_type": "stream",
          "name": "stdout",
          "text": [
            "enter your number 10\n",
            "enter your number 13\n",
            "enter your number 11\n",
            "enter your number 12\n",
            "13\n"
          ]
        }
      ]
    },
    {
      "cell_type": "markdown",
      "source": [
        "........................"
      ],
      "metadata": {
        "id": "PuvdjPX_ClPf"
      }
    },
    {
      "cell_type": "markdown",
      "source": [
        "Program 1: Check if a number is positive"
      ],
      "metadata": {
        "id": "UzVo8KhnCtDl"
      }
    },
    {
      "cell_type": "code",
      "source": [
        "num = int(input(\"Enter a number: \"))\n",
        "if num > 0:\n",
        "    print(\"The number is positive.\")\n"
      ],
      "metadata": {
        "colab": {
          "base_uri": "https://localhost:8080/"
        },
        "id": "liQPwpoSCr5x",
        "outputId": "fc3bbe06-edf3-447e-8d90-d5d844983411"
      },
      "execution_count": 24,
      "outputs": [
        {
          "output_type": "stream",
          "name": "stdout",
          "text": [
            "Enter a number: 12\n",
            "The number is positive.\n"
          ]
        }
      ]
    },
    {
      "cell_type": "markdown",
      "source": [
        "Program 2: Check if a number is even"
      ],
      "metadata": {
        "id": "IGeTp_woCyyW"
      }
    },
    {
      "cell_type": "code",
      "source": [
        "num = int(input(\"Enter a number: \"))\n",
        "if num % 2 == 0:\n",
        "    print(\"The number is even.\")\n"
      ],
      "metadata": {
        "colab": {
          "base_uri": "https://localhost:8080/"
        },
        "id": "CfG03gBFCzuS",
        "outputId": "772f51ee-974d-4ab0-fc30-86555ff54f50"
      },
      "execution_count": 25,
      "outputs": [
        {
          "output_type": "stream",
          "name": "stdout",
          "text": [
            "Enter a number: 12\n",
            "The number is even.\n"
          ]
        }
      ]
    },
    {
      "cell_type": "markdown",
      "source": [
        "Program 3: Check if a number is between a specific range"
      ],
      "metadata": {
        "id": "e-gAIKwlC45P"
      }
    },
    {
      "cell_type": "code",
      "source": [
        "num = int(input(\"Enter a number: \"))\n",
        "if 10 <= num <= 20:\n",
        "    print(\"The number is between 10 and 20 (inclusive).\")\n"
      ],
      "metadata": {
        "colab": {
          "base_uri": "https://localhost:8080/"
        },
        "id": "WY27UOqPC55S",
        "outputId": "24356676-2b49-4660-f78c-c047083ae0d0"
      },
      "execution_count": 26,
      "outputs": [
        {
          "output_type": "stream",
          "name": "stdout",
          "text": [
            "Enter a number: 12\n",
            "The number is between 10 and 20 (inclusive).\n"
          ]
        }
      ]
    },
    {
      "cell_type": "markdown",
      "source": [
        "Program 4: Check if a year is a leap year"
      ],
      "metadata": {
        "id": "3CS1bxFfC-ny"
      }
    },
    {
      "cell_type": "code",
      "source": [
        "year = int(input(\"Enter a year: \"))\n",
        "if year % 4 == 0:\n",
        "    print(\"It is a leap year.\")\n"
      ],
      "metadata": {
        "colab": {
          "base_uri": "https://localhost:8080/"
        },
        "id": "lYpkGrAHDARg",
        "outputId": "c649e346-7fd1-4219-a1fe-9b54d6a815a4"
      },
      "execution_count": 27,
      "outputs": [
        {
          "output_type": "stream",
          "name": "stdout",
          "text": [
            "Enter a year: 2020\n",
            "It is a leap year.\n"
          ]
        }
      ]
    },
    {
      "cell_type": "markdown",
      "source": [
        "Program 5: Check if a character is a vowel"
      ],
      "metadata": {
        "id": "lCw9T0IoDGOH"
      }
    },
    {
      "cell_type": "code",
      "source": [
        "char = input(\"Enter a character: \")\n",
        "if char.lower() in ['a', 'e', 'i', 'o', 'u']:\n",
        "    print(\"The character is a vowel.\")\n"
      ],
      "metadata": {
        "colab": {
          "base_uri": "https://localhost:8080/"
        },
        "id": "wzsQnyaFDHkk",
        "outputId": "53e56394-52f6-4ad2-a1c2-24142ee3a706"
      },
      "execution_count": 28,
      "outputs": [
        {
          "output_type": "stream",
          "name": "stdout",
          "text": [
            "Enter a character: a\n",
            "The character is a vowel.\n"
          ]
        }
      ]
    },
    {
      "cell_type": "markdown",
      "source": [
        "Program 6: Check if a number is a perfect square"
      ],
      "metadata": {
        "id": "umYK5DjJDN8-"
      }
    },
    {
      "cell_type": "code",
      "source": [
        "num = int(input(\"Enter a number: \"))\n",
        "if num ** 0.5 % 1 == 0:\n",
        "    print(\"The number is a perfect square.\")\n"
      ],
      "metadata": {
        "colab": {
          "base_uri": "https://localhost:8080/"
        },
        "id": "U4tUNrLQDRPD",
        "outputId": "701db610-4d5e-4b0e-ef65-3647bddf6c7b"
      },
      "execution_count": 30,
      "outputs": [
        {
          "output_type": "stream",
          "name": "stdout",
          "text": [
            "Enter a number: 4\n",
            "The number is a perfect square.\n"
          ]
        }
      ]
    },
    {
      "cell_type": "markdown",
      "source": [
        "Program 7: Check if a string starts with a specific letter"
      ],
      "metadata": {
        "id": "SnkQi0KFDZ0h"
      }
    },
    {
      "cell_type": "code",
      "source": [
        "string = input(\"Enter a string: \")\n",
        "if string[0].lower() == 'a':\n",
        "    print(\"The string starts with the letter 'A'.\")\n"
      ],
      "metadata": {
        "colab": {
          "base_uri": "https://localhost:8080/"
        },
        "id": "wONy-c7QDbrK",
        "outputId": "b14639af-8025-4c22-9fa5-1f1f41dbd23f"
      },
      "execution_count": 31,
      "outputs": [
        {
          "output_type": "stream",
          "name": "stdout",
          "text": [
            "Enter a string: ali\n",
            "The string starts with the letter 'A'.\n"
          ]
        }
      ]
    },
    {
      "cell_type": "markdown",
      "source": [
        "Program 8: Check if two strings are equal"
      ],
      "metadata": {
        "id": "NPIKAmx7Dp42"
      }
    },
    {
      "cell_type": "code",
      "source": [
        "str1 = \"Hello\"\n",
        "str2 = \"Hello\"\n",
        "if str1 == str2:\n",
        "    print(\"The strings are equal.\")\n"
      ],
      "metadata": {
        "colab": {
          "base_uri": "https://localhost:8080/"
        },
        "id": "Rbj_UUzqDst9",
        "outputId": "00e2f5b1-8ad1-4e53-d4bb-d56925ecd9c6"
      },
      "execution_count": 32,
      "outputs": [
        {
          "output_type": "stream",
          "name": "stdout",
          "text": [
            "The strings are equal.\n"
          ]
        }
      ]
    },
    {
      "metadata": {
        "id": "5P8FX06GefRB"
      },
      "cell_type": "markdown",
      "source": [
        "The program evaluates the test expression and will execute statement(s) only if the text expression is True.\n",
        "\n",
        "If the text expression is False, the statement(s) is not executed."
      ]
    },
    {
      "metadata": {
        "id": "2j1VzC47efRD"
      },
      "cell_type": "markdown",
      "source": [
        "Python interprets non-zero values as True. None and 0 are interpreted as False."
      ]
    },
    {
      "metadata": {
        "id": "ZoHX8fhdefRD"
      },
      "cell_type": "markdown",
      "source": [
        "# Flow Chart"
      ]
    },
    {
      "metadata": {
        "id": "Q5ARdqzUefRE"
      },
      "cell_type": "markdown",
      "source": [
        "# Example"
      ]
    },
    {
      "metadata": {
        "id": "6mBW6suCefRF",
        "outputId": "72e798df-efe6-44b0-a265-dcf4ed65c853"
      },
      "cell_type": "code",
      "source": [
        "num = 10\n",
        "\n",
        "# try 0, -1 and None\n",
        "if None:\n",
        "    print(\"Number is positive\")\n",
        "print(\"This will print always\")      #This print statement always print\n",
        "\n",
        "#change number\n"
      ],
      "execution_count": null,
      "outputs": [
        {
          "output_type": "stream",
          "text": [
            "This will print always\n"
          ],
          "name": "stdout"
        }
      ]
    },
    {
      "metadata": {
        "id": "np1GauhCefRK"
      },
      "cell_type": "markdown",
      "source": [
        "# if ... else Statement\n",
        "\n",
        "![Python_if_else_statement.jpg](data:image/jpeg;base64,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)"
      ]
    },
    {
      "metadata": {
        "id": "Y5F7zmmEefRK"
      },
      "cell_type": "markdown",
      "source": [
        "# Syntax:"
      ]
    },
    {
      "metadata": {
        "id": "y8jdfyhZefRL"
      },
      "cell_type": "markdown",
      "source": [
        "    if test expression:\n",
        "\n",
        "        Body of if\n",
        "\n",
        "    else:\n",
        "\n",
        "        Body of else"
      ]
    },
    {
      "metadata": {
        "id": "qhlErfqoefRM"
      },
      "cell_type": "markdown",
      "source": [
        "# Flow Chart"
      ]
    },
    {
      "metadata": {
        "id": "yZzUkQw4efRN"
      },
      "cell_type": "markdown",
      "source": [
        "![title](Python_if_else_statement.jpg)"
      ]
    },
    {
      "metadata": {
        "id": "kJe4WdEyefRN"
      },
      "cell_type": "markdown",
      "source": [
        "# Example"
      ]
    },
    {
      "metadata": {
        "id": "pC8kDvb2efRO",
        "outputId": "bf77eac7-736c-406f-a561-c8ef8cca83c6"
      },
      "cell_type": "code",
      "source": [
        "num = 10\n",
        "if num > 0:\n",
        "    print(\"Positive number\")\n",
        "else:\n",
        "    print(\"Negative Number\")"
      ],
      "execution_count": null,
      "outputs": [
        {
          "output_type": "stream",
          "text": [
            "Positive number\n"
          ],
          "name": "stdout"
        }
      ]
    },
    {
      "metadata": {
        "id": "FhL5F5DJefRR"
      },
      "cell_type": "markdown",
      "source": [
        "# if...elif...else Statement"
      ]
    },
    {
      "metadata": {
        "id": "n5gOJbuUefRS"
      },
      "cell_type": "markdown",
      "source": [
        "# Syntax:"
      ]
    },
    {
      "metadata": {
        "id": "NK9FpkhiefRT"
      },
      "cell_type": "markdown",
      "source": [
        "    if test expression:\n",
        "\n",
        "        Body of if\n",
        "    elif test expression:\n",
        "\n",
        "        Body of elif\n",
        "    else:\n",
        "\n",
        "        Body of else"
      ]
    },
    {
      "metadata": {
        "id": "_PsCmnflefRU"
      },
      "cell_type": "markdown",
      "source": [
        "# Example:"
      ]
    },
    {
      "metadata": {
        "id": "NgIKVa1vefRV",
        "outputId": "d8cba0f9-d26d-4163-fbf9-5aceb05b4112"
      },
      "cell_type": "code",
      "source": [
        "num = 0\n",
        "\n",
        "if num > 0:\n",
        "    print(\"Positive number\")\n",
        "elif num == 0:\n",
        "    print(\"ZERO\")\n",
        "else:\n",
        "    print(\"Negative Number\")"
      ],
      "execution_count": null,
      "outputs": [
        {
          "output_type": "stream",
          "text": [
            "ZERO\n"
          ],
          "name": "stdout"
        }
      ]
    },
    {
      "metadata": {
        "id": "Sp98_OGyefRZ"
      },
      "cell_type": "markdown",
      "source": [
        "# Nested if Statements"
      ]
    },
    {
      "metadata": {
        "id": "Ss3GbcNTefRZ"
      },
      "cell_type": "markdown",
      "source": [
        "We can have a if...elif...else statement inside another if...elif...else statement. This is called nesting in computer programming."
      ]
    },
    {
      "metadata": {
        "id": "_WOwMeijefRZ"
      },
      "cell_type": "markdown",
      "source": [
        "# Example:"
      ]
    },
    {
      "metadata": {
        "id": "XSjHkI2RefRa",
        "outputId": "aab86f49-a9d6-4643-ec20-5a9d00df9237"
      },
      "cell_type": "code",
      "source": [
        "num = 10.5\n",
        "\n",
        "if num >= 0:\n",
        "    if num == 0:\n",
        "        print(\"Zero\")\n",
        "    else:\n",
        "        print(\"Positive number\")\n",
        "else:\n",
        "    print(\"Negative Number\")"
      ],
      "execution_count": null,
      "outputs": [
        {
          "output_type": "stream",
          "text": [
            "Positive number\n"
          ],
          "name": "stdout"
        }
      ]
    },
    {
      "metadata": {
        "id": "29bb4cB2efRc"
      },
      "cell_type": "markdown",
      "source": [
        "# Python program to find the largest element among three Numbers"
      ]
    },
    {
      "metadata": {
        "id": "wNkB5Fz1efRd",
        "outputId": "7f6c6563-784d-40a6-cafd-eb999ed77e2a"
      },
      "cell_type": "code",
      "source": [
        "num1 = 10\n",
        "num2 = 50\n",
        "num3 = 15\n",
        "\n",
        "if (num1 >= num2) and (num1 >= num3):           #logical operator   and\n",
        "    largest = num1\n",
        "elif (num2 >= num1) and (num2 >= num3):\n",
        "    largest = num2\n",
        "else:\n",
        "    largest = num3\n",
        "print(\"Largest element among three numbers is: {}\".format(largest))"
      ],
      "execution_count": null,
      "outputs": [
        {
          "output_type": "stream",
          "text": [
            "Largest element among three numbers is: 50\n"
          ],
          "name": "stdout"
        }
      ]
    },
    {
      "metadata": {
        "id": "cjzyFKiMefRf"
      },
      "cell_type": "code",
      "source": [],
      "execution_count": null,
      "outputs": []
    }
  ]
}