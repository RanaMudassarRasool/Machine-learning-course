{
  "nbformat": 4,
  "nbformat_minor": 0,
  "metadata": {
    "colab": {
      "provenance": [],
      "include_colab_link": true
    },
    "kernelspec": {
      "display_name": "Python 3",
      "language": "python",
      "name": "python3"
    }
  },
  "cells": [
    {
      "cell_type": "markdown",
      "metadata": {
        "id": "view-in-github",
        "colab_type": "text"
      },
      "source": [
        "<a href=\"https://colab.research.google.com/github/ranamaddy/Machine-learning-course/blob/main/4_list.ipynb\" target=\"_parent\"><img src=\"https://colab.research.google.com/assets/colab-badge.svg\" alt=\"Open In Colab\"/></a>"
      ]
    },
    {
      "cell_type": "markdown",
      "metadata": {
        "id": "NdXy-T5zaAaF"
      },
      "source": [
        "# Lists"
      ]
    },
    {
      "cell_type": "markdown",
      "metadata": {
        "id": "d2abr_4DaAaG"
      },
      "source": [
        "Data Structure:\n",
        "    \n",
        "A data structure is a collection of data elements (such as numbers or characters—or even other data structures) that is structured in some way, for example, by numbering the elements. The most basic data structure in Python is the \"sequence\"."
      ]
    },
    {
      "cell_type": "markdown",
      "metadata": {
        "id": "_OkL1n_saAaI"
      },
      "source": [
        "-> List is one of the Sequence Data structure\n",
        "\n",
        "-> Lists are collection of items (Strings, integers or even other lists)\n",
        "\n",
        "-> Lists are enclosed in [ ]\n",
        "\n",
        "-> Each item in the list has an assigned index value.\n",
        "\n",
        "-> Each item in a list is separated by a comma\n",
        "\n",
        "-> Lists are mutable, which means they can be changed.\n"
      ]
    },
    {
      "cell_type": "markdown",
      "metadata": {
        "collapsed": true,
        "id": "y6E87CNkaAaI"
      },
      "source": [
        "# List Creation"
      ]
    },
    {
      "cell_type": "code",
      "metadata": {
        "id": "3xDIU3qfaAaJ",
        "outputId": "ea438995-bcea-4364-b0ce-78d2d4d639f1",
        "colab": {
          "base_uri": "https://localhost:8080/"
        }
      },
      "source": [
        "lstemp = []\n",
        "\n",
        "lst = ['one', 'two', 'three', 'four'] # list of strings\n",
        "\n",
        "lst2 = [1, 2, 3, 4] #list of integers\n",
        "\n",
        "lst3 = [[1, 2], [3, 4]] # list of lists\n",
        "\n",
        "lst4 = [1, 'ramu', 24, 1.24] # list of different datatypes\n",
        "\n",
        "print(lst4)\n"
      ],
      "execution_count": null,
      "outputs": [
        {
          "output_type": "stream",
          "name": "stdout",
          "text": [
            "[1, 'ramu', 24, 1.24]\n"
          ]
        }
      ]
    },
    {
      "cell_type": "code",
      "source": [
        "print(lst)"
      ],
      "metadata": {
        "colab": {
          "base_uri": "https://localhost:8080/"
        },
        "id": "9BU5EfuNRdNx",
        "outputId": "7a32858a-f067-44cf-b37e-d4bb3a4cc546"
      },
      "execution_count": null,
      "outputs": [
        {
          "output_type": "stream",
          "name": "stdout",
          "text": [
            "['one', 'two', 'three', 'four']\n"
          ]
        }
      ]
    },
    {
      "cell_type": "code",
      "source": [
        "print(lst2)"
      ],
      "metadata": {
        "colab": {
          "base_uri": "https://localhost:8080/"
        },
        "id": "HPGZri5-RzXp",
        "outputId": "42ca9c76-262a-4f6d-cc82-c7cd29dae473"
      },
      "execution_count": null,
      "outputs": [
        {
          "output_type": "stream",
          "name": "stdout",
          "text": [
            "[1, 2, 3, 4]\n"
          ]
        }
      ]
    },
    {
      "cell_type": "code",
      "source": [
        "print(lst2[3])"
      ],
      "metadata": {
        "colab": {
          "base_uri": "https://localhost:8080/"
        },
        "id": "JJ5mg1GCR38i",
        "outputId": "60c49a43-10be-4433-9687-22cd2b8b310d"
      },
      "execution_count": null,
      "outputs": [
        {
          "output_type": "stream",
          "name": "stdout",
          "text": [
            "4\n"
          ]
        }
      ]
    },
    {
      "cell_type": "code",
      "source": [
        "for ls in lst:\n",
        "  print(ls)"
      ],
      "metadata": {
        "colab": {
          "base_uri": "https://localhost:8080/"
        },
        "id": "p7Rnvp1mSCZw",
        "outputId": "9e604e93-ce59-4b04-9913-f91a8963a238"
      },
      "execution_count": null,
      "outputs": [
        {
          "output_type": "stream",
          "name": "stdout",
          "text": [
            "one\n",
            "two\n",
            "three\n",
            "four\n"
          ]
        }
      ]
    },
    {
      "cell_type": "code",
      "source": [
        "print(len(lst))"
      ],
      "metadata": {
        "colab": {
          "base_uri": "https://localhost:8080/"
        },
        "id": "7vyZYNqpSQL9",
        "outputId": "15cb7409-8c68-4f58-feea-2744495ec08b"
      },
      "execution_count": null,
      "outputs": [
        {
          "output_type": "stream",
          "name": "stdout",
          "text": [
            "4\n"
          ]
        }
      ]
    },
    {
      "cell_type": "code",
      "source": [
        "for ls in range(len(lst)):\n",
        "  print(lst[ls])\n"
      ],
      "metadata": {
        "colab": {
          "base_uri": "https://localhost:8080/"
        },
        "id": "T2iPZLbGSXDp",
        "outputId": "34863923-c737-45ad-d8bf-47d9384c2dd2"
      },
      "execution_count": null,
      "outputs": [
        {
          "output_type": "stream",
          "name": "stdout",
          "text": [
            "one\n",
            "two\n",
            "three\n",
            "four\n"
          ]
        }
      ]
    },
    {
      "cell_type": "code",
      "source": [
        "print(lst[3])"
      ],
      "metadata": {
        "colab": {
          "base_uri": "https://localhost:8080/"
        },
        "id": "Xzgoa0uPRmj6",
        "outputId": "1dea8602-34dc-4450-8257-a5854136b6b1"
      },
      "execution_count": null,
      "outputs": [
        {
          "output_type": "stream",
          "name": "stdout",
          "text": [
            "four\n"
          ]
        }
      ]
    },
    {
      "cell_type": "code",
      "source": [
        "print(lst2)"
      ],
      "metadata": {
        "colab": {
          "base_uri": "https://localhost:8080/"
        },
        "id": "U-1DlCINSxhD",
        "outputId": "f3458b9f-3a7d-408e-c7db-da270e43e46a"
      },
      "execution_count": null,
      "outputs": [
        {
          "output_type": "stream",
          "name": "stdout",
          "text": [
            "[1, 2, 3, 4]\n"
          ]
        }
      ]
    },
    {
      "cell_type": "code",
      "source": [
        "lst2[1]=6"
      ],
      "metadata": {
        "id": "2rXpqBf5S28Y"
      },
      "execution_count": null,
      "outputs": []
    },
    {
      "cell_type": "code",
      "source": [
        "print(lst2)"
      ],
      "metadata": {
        "colab": {
          "base_uri": "https://localhost:8080/"
        },
        "id": "gfFVs_U0S6iL",
        "outputId": "0789b530-1232-40ed-aec3-38d816d79252"
      },
      "execution_count": null,
      "outputs": [
        {
          "output_type": "stream",
          "name": "stdout",
          "text": [
            "[1, 6, 3, 4]\n"
          ]
        }
      ]
    },
    {
      "cell_type": "code",
      "source": [
        "lst4[3]=5\n",
        "lst4\n"
      ],
      "metadata": {
        "colab": {
          "base_uri": "https://localhost:8080/"
        },
        "id": "6sC5y1zXMH7h",
        "outputId": "7b82b771-560b-4920-9592-1aae69cd7678"
      },
      "execution_count": null,
      "outputs": [
        {
          "output_type": "execute_result",
          "data": {
            "text/plain": [
              "[1, 'ramu', 24, 5]"
            ]
          },
          "metadata": {},
          "execution_count": 4
        }
      ]
    },
    {
      "cell_type": "code",
      "source": [
        "lst4[2]=9\n",
        "lst4"
      ],
      "metadata": {
        "colab": {
          "base_uri": "https://localhost:8080/"
        },
        "id": "x0g68kKRMbiE",
        "outputId": "eaf3e891-be71-4582-9ecb-8828a920d363"
      },
      "execution_count": null,
      "outputs": [
        {
          "output_type": "execute_result",
          "data": {
            "text/plain": [
              "[1, 'ramu', 9, 5]"
            ]
          },
          "metadata": {},
          "execution_count": 6
        }
      ]
    },
    {
      "cell_type": "markdown",
      "source": [
        "**List Indexing and Splitting**\n",
        "The indexing is processed in the same way as it happens with the strings. The elements of the list can be accessed by using the slice operator [].\n",
        "\n",
        "![python-list.png](data:image/png;base64,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)"
      ],
      "metadata": {
        "id": "EkKEiEinJZLg"
      }
    },
    {
      "cell_type": "code",
      "source": [
        "lst2"
      ],
      "metadata": {
        "colab": {
          "base_uri": "https://localhost:8080/"
        },
        "id": "PFEqyprMTQuD",
        "outputId": "504afccb-7635-433f-e449-71381c3eabb7"
      },
      "execution_count": null,
      "outputs": [
        {
          "output_type": "execute_result",
          "data": {
            "text/plain": [
              "[1, 6, 3, 4]"
            ]
          },
          "metadata": {},
          "execution_count": 20
        }
      ]
    },
    {
      "cell_type": "code",
      "source": [
        "lst2[:]"
      ],
      "metadata": {
        "colab": {
          "base_uri": "https://localhost:8080/"
        },
        "id": "_pB-fwi6TTsN",
        "outputId": "80420871-841c-49d5-c18b-f6c851445862"
      },
      "execution_count": null,
      "outputs": [
        {
          "output_type": "execute_result",
          "data": {
            "text/plain": [
              "[1, 6, 3, 4]"
            ]
          },
          "metadata": {},
          "execution_count": 22
        }
      ]
    },
    {
      "cell_type": "code",
      "source": [
        "lst2[1:]"
      ],
      "metadata": {
        "colab": {
          "base_uri": "https://localhost:8080/"
        },
        "id": "hO7Gqpw5TZvF",
        "outputId": "99dab482-6ba5-4828-83a6-7552ddc08e80"
      },
      "execution_count": null,
      "outputs": [
        {
          "output_type": "execute_result",
          "data": {
            "text/plain": [
              "[6, 3, 4]"
            ]
          },
          "metadata": {},
          "execution_count": 23
        }
      ]
    },
    {
      "cell_type": "code",
      "source": [
        "lst2[0:3]"
      ],
      "metadata": {
        "colab": {
          "base_uri": "https://localhost:8080/"
        },
        "id": "4YlG9NxjTfiG",
        "outputId": "7cd60b6a-2bc0-421c-84dc-3251e6d92502"
      },
      "execution_count": null,
      "outputs": [
        {
          "output_type": "execute_result",
          "data": {
            "text/plain": [
              "[1, 6, 3]"
            ]
          },
          "metadata": {},
          "execution_count": 25
        }
      ]
    },
    {
      "cell_type": "markdown",
      "source": [
        "**list_varible(start:stop:step)**  \n",
        "The **start** denotes the starting index position of the list.\n",
        "\n",
        "The **stop** denotes the last index position of the list.\n",
        "\n",
        "The **step** is used to skip the nth element within a start:stop\n"
      ],
      "metadata": {
        "id": "GjHvRyuVKXgn"
      }
    },
    {
      "cell_type": "code",
      "source": [
        "list = [1,2,3,4,5,6,7]\n",
        "print(list[0])\n",
        "print(list[1])\n",
        "print(list[2])\n",
        "print(list[3])\n",
        "# Slicing the elements\n",
        "print(list[0:6])\n",
        "# By default, the index value is 0 so its starts from the 0th element and go for index -1.\n",
        "print(list[:])\n",
        "print(list[2:5])\n",
        "print(list[1:6:2])"
      ],
      "metadata": {
        "colab": {
          "base_uri": "https://localhost:8080/"
        },
        "id": "IIavqcHUKTT-",
        "outputId": "5755d14b-a45c-4850-d4e5-ee064f17155c"
      },
      "execution_count": null,
      "outputs": [
        {
          "output_type": "stream",
          "name": "stdout",
          "text": [
            "1\n",
            "2\n",
            "3\n",
            "4\n",
            "[1, 2, 3, 4, 5, 6]\n",
            "[1, 2, 3, 4, 5, 6, 7]\n",
            "[3, 4, 5]\n",
            "[2, 4, 6]\n"
          ]
        }
      ]
    },
    {
      "cell_type": "code",
      "source": [
        "list"
      ],
      "metadata": {
        "colab": {
          "base_uri": "https://localhost:8080/"
        },
        "id": "AtyBmysITxx-",
        "outputId": "57b85391-bcb4-48c3-f577-38436fed9ed8"
      },
      "execution_count": null,
      "outputs": [
        {
          "output_type": "execute_result",
          "data": {
            "text/plain": [
              "[1, 2, 3, 4, 5, 6, 7]"
            ]
          },
          "metadata": {},
          "execution_count": 26
        }
      ]
    },
    {
      "cell_type": "code",
      "source": [
        "list[1:6:3]"
      ],
      "metadata": {
        "colab": {
          "base_uri": "https://localhost:8080/"
        },
        "id": "Td6dKmaXT0EH",
        "outputId": "0976b57d-296b-4da2-e758-cdada8c9a142"
      },
      "execution_count": null,
      "outputs": [
        {
          "output_type": "execute_result",
          "data": {
            "text/plain": [
              "[2, 5]"
            ]
          },
          "metadata": {},
          "execution_count": 28
        }
      ]
    },
    {
      "cell_type": "code",
      "source": [
        "list[1:6]"
      ],
      "metadata": {
        "colab": {
          "base_uri": "https://localhost:8080/"
        },
        "id": "j6VqpcvPUCkS",
        "outputId": "1d82dad8-7732-4c29-af62-1dd6ace8ca81"
      },
      "execution_count": null,
      "outputs": [
        {
          "output_type": "execute_result",
          "data": {
            "text/plain": [
              "[2, 3, 4, 5, 6]"
            ]
          },
          "metadata": {},
          "execution_count": 30
        }
      ]
    },
    {
      "cell_type": "markdown",
      "metadata": {
        "id": "6CEa5juJaAaP"
      },
      "source": [
        "# List Length"
      ]
    },
    {
      "cell_type": "code",
      "metadata": {
        "id": "ELTxkoZAaAaQ",
        "outputId": "779b1f15-3461-4704-ebd3-5b587166297e"
      },
      "source": [
        "lst = ['one', 'two', 'three', 'four']\n",
        "\n",
        "#find length of a list\n",
        "print(len(lst))"
      ],
      "execution_count": null,
      "outputs": [
        {
          "output_type": "stream",
          "text": [
            "4\n"
          ],
          "name": "stdout"
        }
      ]
    },
    {
      "cell_type": "markdown",
      "metadata": {
        "id": "BWtzSHqEaAaT"
      },
      "source": [
        "# List Append"
      ]
    },
    {
      "cell_type": "code",
      "metadata": {
        "id": "lgxkiUKRaAaU",
        "outputId": "9b37ed91-2b39-40af-e0e8-6c0cbbc44b70",
        "colab": {
          "base_uri": "https://localhost:8080/"
        }
      },
      "source": [
        "lst = ['one', 'two', 'three', 'four']\n",
        "\n",
        "lst.append('five') # append will add the item at the end\n",
        "lst.append('6') # append will add the item at the end\n",
        "\n",
        "print(lst)"
      ],
      "execution_count": 4,
      "outputs": [
        {
          "output_type": "stream",
          "name": "stdout",
          "text": [
            "['one', 'two', 'three', 'four', 'five', '6']\n"
          ]
        }
      ]
    },
    {
      "cell_type": "markdown",
      "metadata": {
        "id": "Yk3hugoCaAaX"
      },
      "source": [
        "# List Insert"
      ]
    },
    {
      "cell_type": "code",
      "metadata": {
        "id": "hxFmwInfaAaY",
        "outputId": "b41efdf9-a665-4269-d031-0176a96dfeb2",
        "colab": {
          "base_uri": "https://localhost:8080/"
        }
      },
      "source": [
        "#syntax: lst.insert(x, y)\n",
        "\n",
        "lst = ['one', 'two', 'four']\n",
        "\n",
        "lst.insert(3, \"three\") # will add element y at location x\n",
        "\n",
        "print(lst)\n"
      ],
      "execution_count": 6,
      "outputs": [
        {
          "output_type": "stream",
          "name": "stdout",
          "text": [
            "['one', 'two', 'four', 'three']\n"
          ]
        }
      ]
    },
    {
      "cell_type": "markdown",
      "metadata": {
        "id": "YcGKZ45BaAab"
      },
      "source": [
        "# List Remove"
      ]
    },
    {
      "cell_type": "code",
      "metadata": {
        "id": "Qz9E9r6IaAac",
        "outputId": "ea1192f6-07e4-46b4-ef3c-ffc08794a405",
        "colab": {
          "base_uri": "https://localhost:8080/"
        }
      },
      "source": [
        "#syntax: lst.remove(x)\n",
        "\n",
        "lst = ['one', 'two', 'three', 'four', 'two']\n",
        "\n",
        "lst.remove('two') #it will remove first occurence of 'two' in a given list\n",
        "\n",
        "print(lst)"
      ],
      "execution_count": 7,
      "outputs": [
        {
          "output_type": "stream",
          "name": "stdout",
          "text": [
            "['one', 'three', 'four', 'two']\n"
          ]
        }
      ]
    },
    {
      "cell_type": "markdown",
      "metadata": {
        "id": "gP3lb_hlaAai"
      },
      "source": [
        "# List Append & Extend"
      ]
    },
    {
      "cell_type": "code",
      "metadata": {
        "id": "AhQZ_S5WaAaj",
        "outputId": "3e023a9c-0291-4264-8c49-3d32d2a685e9"
      },
      "source": [
        "lst = ['one', 'two', 'three', 'four']\n",
        "\n",
        "lst2 = ['five', 'six']\n",
        "\n",
        "#append\n",
        "lst.append(lst2)\n",
        "\n",
        "print(lst)"
      ],
      "execution_count": null,
      "outputs": [
        {
          "output_type": "stream",
          "text": [
            "['one', 'two', 'three', 'four', ['five', 'six']]\n"
          ],
          "name": "stdout"
        }
      ]
    },
    {
      "cell_type": "code",
      "metadata": {
        "id": "-eDRYerEaAan",
        "outputId": "dc992ec1-df5e-4190-c096-8f7b9e3b889c"
      },
      "source": [
        "lst = ['one', 'two', 'three', 'four']\n",
        "\n",
        "lst2 = ['five', 'six']\n",
        "\n",
        "#extend will join the list with list1\n",
        "\n",
        "lst.extend(lst2)\n",
        "\n",
        "print(lst)"
      ],
      "execution_count": null,
      "outputs": [
        {
          "output_type": "stream",
          "text": [
            "['one', 'two', 'three', 'four', 'five', 'six']\n"
          ],
          "name": "stdout"
        }
      ]
    },
    {
      "cell_type": "markdown",
      "metadata": {
        "id": "HRsgFVblaAar"
      },
      "source": [
        "# List Delete"
      ]
    },
    {
      "cell_type": "code",
      "metadata": {
        "id": "E0TcvgzCaAas",
        "outputId": "6337a874-61a3-495a-9d07-8eebe66def35"
      },
      "source": [
        "#del to remove item based on index position\n",
        "\n",
        "lst = ['one', 'two', 'three', 'four', 'five']\n",
        "\n",
        "del lst[1]\n",
        "print(lst)\n",
        "\n",
        "#or we can use pop() method\n",
        "a = lst.pop(1)\n",
        "print(a)\n",
        "\n",
        "print(lst)"
      ],
      "execution_count": null,
      "outputs": [
        {
          "output_type": "stream",
          "text": [
            "['one', 'three', 'four', 'five']\n",
            "three\n",
            "['one', 'four', 'five']\n"
          ],
          "name": "stdout"
        }
      ]
    },
    {
      "cell_type": "code",
      "metadata": {
        "id": "QZy8YqvraAav",
        "outputId": "41c18ac6-f55f-4a81-f949-8af520202363"
      },
      "source": [
        "lst = ['one', 'two', 'three', 'four']\n",
        "\n",
        "#remove an item from list\n",
        "lst.remove('three')\n",
        "\n",
        "print(lst)"
      ],
      "execution_count": null,
      "outputs": [
        {
          "output_type": "stream",
          "text": [
            "['one', 'two', 'four']\n"
          ],
          "name": "stdout"
        }
      ]
    },
    {
      "cell_type": "markdown",
      "metadata": {
        "id": "B3taZUwqaAax"
      },
      "source": [
        "# List related keywords in Python"
      ]
    },
    {
      "cell_type": "code",
      "metadata": {
        "id": "KnvMpRFCaAay",
        "outputId": "789a9858-c55f-4eb2-fa50-9d1fb1a28603",
        "colab": {
          "base_uri": "https://localhost:8080/"
        }
      },
      "source": [
        "#keyword 'in' is used to test if an item is in a list\n",
        "lst = ['one', 'two', 'three', 'four']\n",
        "\n",
        "if 'two' in lst:\n",
        "    print('AI')\n",
        "\n",
        "#keyword 'not' can combined with 'in'\n",
        "if 'six'  in lst:\n",
        "    print('ML')"
      ],
      "execution_count": 8,
      "outputs": [
        {
          "output_type": "stream",
          "name": "stdout",
          "text": [
            "AI\n"
          ]
        }
      ]
    },
    {
      "cell_type": "markdown",
      "metadata": {
        "id": "ikBpRbI9aAa2"
      },
      "source": [
        "# List Reverse"
      ]
    },
    {
      "cell_type": "code",
      "metadata": {
        "id": "RQqzW-mEaAa3",
        "outputId": "781e6007-4649-4640-adde-8f4afde602d6"
      },
      "source": [
        "#reverse is reverses the entire list\n",
        "\n",
        "lst = ['one', 'two', 'three', 'four']\n",
        "\n",
        "lst.reverse()\n",
        "\n",
        "print(lst)"
      ],
      "execution_count": null,
      "outputs": [
        {
          "output_type": "stream",
          "text": [
            "['four', 'three', 'two', 'one']\n"
          ],
          "name": "stdout"
        }
      ]
    },
    {
      "cell_type": "markdown",
      "metadata": {
        "id": "o9lI--gRaAa7"
      },
      "source": [
        "# List Sorting"
      ]
    },
    {
      "cell_type": "markdown",
      "metadata": {
        "id": "lUTiW5mcaAa8"
      },
      "source": [
        "The easiest way to sort a List is with the sorted(list) function.\n",
        "\n",
        "That takes a list and returns a new list with those elements in sorted order.\n",
        "\n",
        "The original list is not changed.\n",
        "\n",
        "The sorted() optional argument reverse=True, e.g. sorted(list, reverse=True),\n",
        "makes it sort backwards."
      ]
    },
    {
      "cell_type": "code",
      "metadata": {
        "id": "LegBovHtaAa9",
        "outputId": "40ed5413-2ffe-4998-8ba4-947d8905db2c",
        "colab": {
          "base_uri": "https://localhost:8080/"
        }
      },
      "source": [
        "#create a list with numbers\n",
        "numbers = [3, 1, 6, 2, 8]\n",
        "\n",
        "sorted_lst = sorted(numbers)\n",
        "\n",
        "\n",
        "print(\"Sorted list :\", sorted_lst)\n",
        "\n",
        "#original list remain unchanged\n",
        "print(\"Original list: \", numbers)"
      ],
      "execution_count": 10,
      "outputs": [
        {
          "output_type": "stream",
          "name": "stdout",
          "text": [
            "Sorted list : [1, 2, 3, 6, 8]\n",
            "Original list:  [3, 1, 6, 2, 8]\n"
          ]
        }
      ]
    },
    {
      "cell_type": "code",
      "metadata": {
        "id": "qT_4cI63aAbB",
        "outputId": "bdae1232-9589-452f-9065-02a3ffb3cdb1",
        "colab": {
          "base_uri": "https://localhost:8080/"
        }
      },
      "source": [
        "#print a list in reverse sorted order\n",
        "print(\"Reverse sorted list :\", sorted(numbers, reverse=False))\n",
        "\n",
        "#orginal list remain unchanged\n",
        "print(\"Original list :\",  numbers)"
      ],
      "execution_count": 12,
      "outputs": [
        {
          "output_type": "stream",
          "name": "stdout",
          "text": [
            "Reverse sorted list : [1, 2, 3, 6, 8]\n",
            "Original list : [3, 1, 6, 2, 8]\n"
          ]
        }
      ]
    },
    {
      "cell_type": "code",
      "metadata": {
        "id": "7YLaz7thaAbF",
        "outputId": "ed2b0657-3ddb-4390-8f3f-0a4c8c34db77"
      },
      "source": [
        "lst = [1, 20, 5, 5, 4.2]\n",
        "\n",
        "#sort the list and stored in itself\n",
        "lst.sort()\n",
        "\n",
        "# add element 'a' to the list to show an error\n",
        "\n",
        "print(\"Sorted list: \", lst)"
      ],
      "execution_count": null,
      "outputs": [
        {
          "output_type": "stream",
          "text": [
            "Sorted list:  [1, 4.2, 5, 5, 20]\n"
          ],
          "name": "stdout"
        }
      ]
    },
    {
      "cell_type": "code",
      "metadata": {
        "id": "WfPzBE_-aAbI",
        "outputId": "95227aa7-5703-4962-c4a7-8f931ea90264",
        "colab": {
          "base_uri": "https://localhost:8080/",
          "height": 183
        }
      },
      "source": [
        "lst = [1, 20, 'b', 5, 'a']\n",
        "print(lst.sort()) # sort list with element of different datatypes.\n"
      ],
      "execution_count": 1,
      "outputs": [
        {
          "output_type": "error",
          "ename": "TypeError",
          "evalue": "ignored",
          "traceback": [
            "\u001b[0;31m---------------------------------------------------------------------------\u001b[0m",
            "\u001b[0;31mTypeError\u001b[0m                                 Traceback (most recent call last)",
            "\u001b[0;32m<ipython-input-1-0354af416f5c>\u001b[0m in \u001b[0;36m<cell line: 2>\u001b[0;34m()\u001b[0m\n\u001b[1;32m      1\u001b[0m \u001b[0mlst\u001b[0m \u001b[0;34m=\u001b[0m \u001b[0;34m[\u001b[0m\u001b[0;36m1\u001b[0m\u001b[0;34m,\u001b[0m \u001b[0;36m20\u001b[0m\u001b[0;34m,\u001b[0m \u001b[0;34m'b'\u001b[0m\u001b[0;34m,\u001b[0m \u001b[0;36m5\u001b[0m\u001b[0;34m,\u001b[0m \u001b[0;34m'a'\u001b[0m\u001b[0;34m]\u001b[0m\u001b[0;34m\u001b[0m\u001b[0;34m\u001b[0m\u001b[0m\n\u001b[0;32m----> 2\u001b[0;31m \u001b[0mprint\u001b[0m\u001b[0;34m(\u001b[0m\u001b[0mlst\u001b[0m\u001b[0;34m.\u001b[0m\u001b[0msort\u001b[0m\u001b[0;34m(\u001b[0m\u001b[0;34m)\u001b[0m\u001b[0;34m)\u001b[0m \u001b[0;31m# sort list with element of different datatypes.\u001b[0m\u001b[0;34m\u001b[0m\u001b[0;34m\u001b[0m\u001b[0m\n\u001b[0m",
            "\u001b[0;31mTypeError\u001b[0m: '<' not supported between instances of 'str' and 'int'"
          ]
        }
      ]
    },
    {
      "cell_type": "markdown",
      "metadata": {
        "id": "eI34dleeaAbK"
      },
      "source": [
        "# List Having Multiple References"
      ]
    },
    {
      "cell_type": "code",
      "metadata": {
        "id": "BcmPLhR6aAbM",
        "outputId": "97dc61ef-97fd-4028-c518-a0028a26f356",
        "colab": {
          "base_uri": "https://localhost:8080/"
        }
      },
      "source": [
        "lst = [1, 2, 3, 4, 5]\n",
        "abc = lst\n",
        "abc.append(6)\n",
        "\n",
        "#print original list\n",
        "print(\"Original list: \", lst)"
      ],
      "execution_count": 2,
      "outputs": [
        {
          "output_type": "stream",
          "name": "stdout",
          "text": [
            "Original list:  [1, 2, 3, 4, 5, 6]\n"
          ]
        }
      ]
    },
    {
      "cell_type": "markdown",
      "metadata": {
        "id": "nsmc6A1YaAbP"
      },
      "source": [
        "# String Split to create a list"
      ]
    },
    {
      "cell_type": "code",
      "metadata": {
        "scrolled": true,
        "id": "YPLVh4TjaAbP",
        "outputId": "dc4b1445-3c8b-4aff-892b-cb1306c36499"
      },
      "source": [
        "#let's take a string\n",
        "\n",
        "s = \"one,two,three,four,five\"\n",
        "slst = s.split(',')\n",
        "print(slst)"
      ],
      "execution_count": null,
      "outputs": [
        {
          "output_type": "stream",
          "text": [
            "['one', 'two', 'three', 'four', 'five']\n"
          ],
          "name": "stdout"
        }
      ]
    },
    {
      "cell_type": "code",
      "metadata": {
        "id": "PBYLi_UjaAbS",
        "outputId": "222b6691-9adf-4194-b9c9-c3acb65b5509"
      },
      "source": [
        "s = \"This is applied AI Course\"\n",
        "split_lst = s.split() # default split is white-character: space or tab\n",
        "print(split_lst)"
      ],
      "execution_count": null,
      "outputs": [
        {
          "output_type": "stream",
          "text": [
            "['This', 'is', 'applied', 'AI', 'Course']\n"
          ],
          "name": "stdout"
        }
      ]
    },
    {
      "cell_type": "markdown",
      "metadata": {
        "id": "i0FJbejqaAbU"
      },
      "source": [
        "# List Indexing"
      ]
    },
    {
      "cell_type": "markdown",
      "metadata": {
        "id": "_ZJom4VxaAbW"
      },
      "source": [
        "Each item in the list has an assigned index value starting from 0.\n",
        "\n",
        "Accessing elements in a list is called indexing."
      ]
    },
    {
      "cell_type": "code",
      "metadata": {
        "id": "_vYi0oRbaAbW",
        "outputId": "359ac752-72c9-47c3-df99-ffff292a088d"
      },
      "source": [
        "lst = [1, 2, 3, 4]\n",
        "print(lst[1]) #print second element\n",
        "\n",
        "#print last element using negative index\n",
        "print(lst[-2])"
      ],
      "execution_count": null,
      "outputs": [
        {
          "output_type": "stream",
          "text": [
            "2\n",
            "3\n"
          ],
          "name": "stdout"
        }
      ]
    },
    {
      "cell_type": "markdown",
      "metadata": {
        "id": "ihTfiGnGaAba"
      },
      "source": [
        "# List Slicing"
      ]
    },
    {
      "cell_type": "markdown",
      "metadata": {
        "id": "HJ6BnCxJaAba"
      },
      "source": [
        "Accessing parts of segments is called slicing.\n",
        "\n",
        "The key point to remember is that the :end value represents the first value that\n",
        "is not in the selected slice."
      ]
    },
    {
      "cell_type": "code",
      "metadata": {
        "id": "yadzqSHAaAbc",
        "outputId": "89b39b80-69a2-4f01-9436-bbe9bf2b4f05"
      },
      "source": [
        "numbers = [10, 20, 30, 40, 50,60,70,80]\n",
        "\n",
        "#print all numbers\n",
        "print(numbers[:])\n",
        "\n",
        "#print from index 0 to index 3\n",
        "print(numbers[0:4])\n"
      ],
      "execution_count": null,
      "outputs": [
        {
          "output_type": "stream",
          "text": [
            "[10, 20, 30, 40, 50, 60, 70, 80]\n",
            "[10, 20, 30, 40]\n"
          ],
          "name": "stdout"
        }
      ]
    },
    {
      "cell_type": "code",
      "metadata": {
        "id": "ESlZQ2aNaAbf",
        "outputId": "b62f05e9-031d-40de-d785-043d59160e45"
      },
      "source": [
        "print (numbers)\n",
        "#print alternate elements in a list\n",
        "print(numbers[::2])\n",
        "\n",
        "\n",
        "#print elemnts start from 0 through rest of the list\n",
        "print(numbers[2::2])\n"
      ],
      "execution_count": null,
      "outputs": [
        {
          "output_type": "stream",
          "text": [
            "[10, 20, 30, 40, 50, 60, 70, 80]\n",
            "[10, 30, 50, 70]\n",
            "[30, 50, 70]\n"
          ],
          "name": "stdout"
        }
      ]
    },
    {
      "cell_type": "markdown",
      "metadata": {
        "id": "69BXgb4YaAbh"
      },
      "source": [
        "# List extend using \"+\""
      ]
    },
    {
      "cell_type": "code",
      "metadata": {
        "id": "paZsLKU7aAbh",
        "outputId": "4882a753-1daa-4357-c02c-d1c889ace73f"
      },
      "source": [
        "lst1 = [1, 2, 3, 4]\n",
        "lst2 = ['varma', 'naveen', 'murali', 'brahma']\n",
        "new_lst = lst1 + lst2\n",
        "\n",
        "print(new_lst)"
      ],
      "execution_count": null,
      "outputs": [
        {
          "output_type": "stream",
          "text": [
            "[1, 2, 3, 4, 'varma', 'naveen', 'murali', 'brahma']\n"
          ],
          "name": "stdout"
        }
      ]
    },
    {
      "cell_type": "markdown",
      "metadata": {
        "id": "zR8AY0YCaAbk"
      },
      "source": [
        "# List Count"
      ]
    },
    {
      "cell_type": "code",
      "metadata": {
        "id": "xLWcn0TcaAbl",
        "outputId": "ba7168f7-a97f-45d7-b123-38df8cc7c1ae"
      },
      "source": [
        "numbers = [1, 2, 3, 1, 3, 4, 2, 5]\n",
        "\n",
        "#frequency of 1 in a list\n",
        "print(numbers.count(1))\n",
        "\n",
        "#frequency of 3 in a list\n",
        "print(numbers.count(3))"
      ],
      "execution_count": null,
      "outputs": [
        {
          "output_type": "stream",
          "text": [
            "2\n",
            "2\n"
          ],
          "name": "stdout"
        }
      ]
    },
    {
      "cell_type": "markdown",
      "metadata": {
        "id": "Ttuq4WbPaAbn"
      },
      "source": [
        "# List Looping"
      ]
    },
    {
      "cell_type": "code",
      "metadata": {
        "id": "gGBIUhMvaAbn",
        "outputId": "b09c4261-5dd9-4bf0-f94f-a0590670d7cf"
      },
      "source": [
        "#loop through a list\n",
        "\n",
        "lst = ['one', 'two', 'three', 'four']\n",
        "\n",
        "for ele in lst:\n",
        "    print(ele)"
      ],
      "execution_count": null,
      "outputs": [
        {
          "output_type": "stream",
          "text": [
            "one\n",
            "two\n",
            "three\n",
            "four\n"
          ],
          "name": "stdout"
        }
      ]
    },
    {
      "cell_type": "markdown",
      "metadata": {
        "id": "-EZO9D31aAbq"
      },
      "source": [
        "# List Comprehensions"
      ]
    },
    {
      "cell_type": "markdown",
      "metadata": {
        "id": "y8DXRBM_aAbq"
      },
      "source": [
        "List comprehensions provide a concise way to create lists.\n",
        "\n",
        "Common applications are to make new lists where each element is the result of some operations applied to each member of another sequence or iterable, or to create a subsequence of those elements that satisfy a certain condition."
      ]
    },
    {
      "cell_type": "code",
      "metadata": {
        "id": "-rHP7zw_aAbr",
        "outputId": "5adc1c49-9633-47bb-a83a-bf144dd1bbbb"
      },
      "source": [
        "# without list comprehension\n",
        "squares = []\n",
        "for i in range(10):\n",
        "    squares.append(i**2)   #list append\n",
        "print(squares)"
      ],
      "execution_count": null,
      "outputs": [
        {
          "output_type": "stream",
          "text": [
            "[0, 1, 4, 9, 16, 25, 36, 49, 64, 81]\n"
          ],
          "name": "stdout"
        }
      ]
    },
    {
      "cell_type": "code",
      "metadata": {
        "id": "CS6fvT8daAbu",
        "outputId": "87959059-b9d0-41bc-bb7d-3e9f3ed14995"
      },
      "source": [
        "#using list comprehension\n",
        "squares = [i**2 for i in range(10)]\n",
        "print(squares)"
      ],
      "execution_count": null,
      "outputs": [
        {
          "output_type": "stream",
          "text": [
            "[0, 1, 4, 9, 16, 25, 36, 49, 64, 81]\n"
          ],
          "name": "stdout"
        }
      ]
    },
    {
      "cell_type": "code",
      "metadata": {
        "id": "N-v4Y9KDaAbw",
        "outputId": "f13d09a5-f6fd-41f7-b6d0-2af43f040afd"
      },
      "source": [
        "#example\n",
        "\n",
        "lst = [-10, -20, 10, 20, 50]\n",
        "\n",
        "#create a new list with values doubled\n",
        "new_lst = [i*2 for i in lst]\n",
        "print(new_lst)\n",
        "\n",
        "#filter the list to exclude negative numbers\n",
        "new_lst = [i for i in lst if i >= 0]\n",
        "print(new_lst)\n",
        "\n",
        "\n",
        "#create a list of tuples like (number, square_of_number)\n",
        "new_lst = [(i, i**2) for i in range(10)]\n",
        "print(new_lst)"
      ],
      "execution_count": null,
      "outputs": [
        {
          "output_type": "stream",
          "text": [
            "[-20, -40, 20, 40, 100]\n",
            "[10, 20, 50]\n",
            "[(0, 0), (1, 1), (2, 4), (3, 9), (4, 16), (5, 25), (6, 36), (7, 49), (8, 64), (9, 81)]\n"
          ],
          "name": "stdout"
        }
      ]
    },
    {
      "cell_type": "markdown",
      "metadata": {
        "id": "Sp6JeODZaAb5"
      },
      "source": [
        "# Nested List Comprehensions"
      ]
    },
    {
      "cell_type": "code",
      "metadata": {
        "id": "I7FzVx3CaAb5",
        "outputId": "20d171d1-25eb-4f5d-b01f-30639b8e0df6"
      },
      "source": [
        "#let's suppose we have a matrix\n",
        "\n",
        "matrix = [\n",
        "    [1, 2, 3, 4],\n",
        "    [5, 6, 7, 8],\n",
        "    [9, 10, 11, 12]\n",
        "]\n",
        "\n",
        "#transpose of a matrix without list comprehension\n",
        "transposed = []\n",
        "for i in range(4):\n",
        "    lst = []\n",
        "    for row in matrix:\n",
        "        lst.append(row[i])\n",
        "    transposed.append(lst)\n",
        "\n",
        "print(transposed)\n"
      ],
      "execution_count": null,
      "outputs": [
        {
          "output_type": "stream",
          "text": [
            "[[1, 5, 9], [2, 6, 10], [3, 7, 11], [4, 8, 12]]\n"
          ],
          "name": "stdout"
        }
      ]
    },
    {
      "cell_type": "code",
      "metadata": {
        "id": "bc0Ij-kaaAb8",
        "outputId": "1005a34e-8982-46ab-9357-f7be29e16f61"
      },
      "source": [
        "#with list comprehension\n",
        "transposed = [[row[i] for row in matrix] for i in range(4)]\n",
        "print(transposed)"
      ],
      "execution_count": null,
      "outputs": [
        {
          "output_type": "stream",
          "text": [
            "[[1, 5, 9], [2, 6, 10], [3, 7, 11], [4, 8, 12]]\n"
          ],
          "name": "stdout"
        }
      ]
    },
    {
      "cell_type": "code",
      "metadata": {
        "id": "__DT4BWEaAb_"
      },
      "source": [],
      "execution_count": null,
      "outputs": []
    }
  ]
}