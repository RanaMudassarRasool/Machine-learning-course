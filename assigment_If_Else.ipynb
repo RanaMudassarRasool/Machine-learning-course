{
  "nbformat": 4,
  "nbformat_minor": 0,
  "metadata": {
    "colab": {
      "provenance": [],
      "include_colab_link": true
    },
    "kernelspec": {
      "name": "python3",
      "display_name": "Python 3"
    },
    "language_info": {
      "name": "python"
    }
  },
  "cells": [
    {
      "cell_type": "markdown",
      "metadata": {
        "id": "view-in-github",
        "colab_type": "text"
      },
      "source": [
        "<a href=\"https://colab.research.google.com/github/ranamaddy/Machine-learning-course/blob/main/assigment_If_Else.ipynb\" target=\"_parent\"><img src=\"https://colab.research.google.com/assets/colab-badge.svg\" alt=\"Open In Colab\"/></a>"
      ]
    },
    {
      "cell_type": "markdown",
      "source": [
        "# **Academy Assignment**"
      ],
      "metadata": {
        "id": "PyyWiJbIrFqo"
      }
    },
    {
      "cell_type": "markdown",
      "source": [
        "**Question  1**"
      ],
      "metadata": {
        "id": "W7wmOtAWeorw"
      }
    },
    {
      "cell_type": "code",
      "source": [
        "score = int(input(\"Enter your exam score: \"))\n",
        "\n",
        "if score >= 50:\n",
        "    print(\"Congratulations! You passed the exam.\")\n",
        "else:\n",
        "    print(\"Sorry, you failed the exam.\")"
      ],
      "metadata": {
        "colab": {
          "base_uri": "https://localhost:8080/"
        },
        "id": "cKYgBdIievhu",
        "outputId": "134c2076-1f18-4fd5-cfb7-a77d5f96c6b9"
      },
      "execution_count": null,
      "outputs": [
        {
          "output_type": "stream",
          "name": "stdout",
          "text": [
            "Enter your exam score: 40\n",
            "Sorry, you failed the exam.\n"
          ]
        }
      ]
    },
    {
      "cell_type": "markdown",
      "source": [
        " **Part 2**"
      ],
      "metadata": {
        "id": "vdIUMx79fiP4"
      }
    },
    {
      "cell_type": "code",
      "source": [
        "score = int(input(\"Enter your exam score: \"))\n",
        "\n",
        "if score >= 100:\n",
        "    print(\"Congratulations! You passed the exam.\")\n",
        "else:\n",
        "    print(\"Sorry, you failed the exam.\")"
      ],
      "metadata": {
        "colab": {
          "base_uri": "https://localhost:8080/"
        },
        "id": "d7swAXxVfnHH",
        "outputId": "ba3a0b6c-dfea-42fe-fe10-eca3d43ace20"
      },
      "execution_count": null,
      "outputs": [
        {
          "output_type": "stream",
          "name": "stdout",
          "text": [
            "Enter your exam score: 100\n",
            "Congratulations! You passed the exam.\n"
          ]
        }
      ]
    },
    {
      "cell_type": "markdown",
      "source": [
        "**Part 3**"
      ],
      "metadata": {
        "id": "4forI00XgN7V"
      }
    },
    {
      "cell_type": "code",
      "source": [
        "score = float(input(\"Enter your exam score: \"))\n",
        "\n",
        "if score >= 50.5:\n",
        "    print(\"Congratulations! You passed the exam.\")\n",
        "else:\n",
        "    print(\"Sorry, you failed the exam.\")"
      ],
      "metadata": {
        "colab": {
          "base_uri": "https://localhost:8080/"
        },
        "id": "RZ9llocEgjxg",
        "outputId": "100fe03b-f03a-493e-f9f6-630a2796f2fc"
      },
      "execution_count": null,
      "outputs": [
        {
          "output_type": "stream",
          "name": "stdout",
          "text": [
            "Enter your exam score: 60.1\n",
            "Congratulations! You passed the exam.\n"
          ]
        }
      ]
    },
    {
      "cell_type": "markdown",
      "source": [
        "**Question 2**"
      ],
      "metadata": {
        "id": "1k5qP3dCgxFS"
      }
    },
    {
      "cell_type": "code",
      "source": [
        "num1 = int(input(\"Enter the first number: \"))\n",
        "num2 = int(input(\"Enter the second number: \"))\n",
        "\n",
        "if num1 > num2:\n",
        "    print(\"The first number is greater.\")\n",
        "elif num1 < num2:\n",
        "    print(\"The second number is greater.\")\n",
        "else:\n",
        "    print(\"Both numbers are equal.\")"
      ],
      "metadata": {
        "colab": {
          "base_uri": "https://localhost:8080/"
        },
        "id": "EAijRMIPg0vX",
        "outputId": "49410812-0888-4ebf-d9ab-7664cdebcb5d"
      },
      "execution_count": null,
      "outputs": [
        {
          "output_type": "stream",
          "name": "stdout",
          "text": [
            "Enter the first number: 5\n",
            "Enter the second number: 4\n",
            "The first number is greater.\n"
          ]
        }
      ]
    },
    {
      "cell_type": "markdown",
      "source": [
        "**Part 2**"
      ],
      "metadata": {
        "id": "e3bA1YfNhJmR"
      }
    },
    {
      "cell_type": "code",
      "source": [
        "num1 = int(input(\"Enter the first number: \"))\n",
        "num2 = int(input(\"Enter the second number: \"))\n",
        "\n",
        "if num1 > num2:\n",
        "    print(\"The first number is greater.\")\n",
        "elif num1 < num2:\n",
        "    print(\"The second number is greater.\")\n",
        "else:\n",
        "    print(\"Both numbers are equal.\")"
      ],
      "metadata": {
        "colab": {
          "base_uri": "https://localhost:8080/"
        },
        "id": "9X7vtinOhL10",
        "outputId": "caf13b9b-b4e8-448c-a9e0-ff14a6b97385"
      },
      "execution_count": null,
      "outputs": [
        {
          "output_type": "stream",
          "name": "stdout",
          "text": [
            "Enter the first number: 5\n",
            "Enter the second number: 6\n",
            "The second number is greater.\n"
          ]
        }
      ]
    },
    {
      "cell_type": "markdown",
      "source": [
        "**Part 3**"
      ],
      "metadata": {
        "id": "218pmQnfhWrS"
      }
    },
    {
      "cell_type": "code",
      "source": [
        "num1 = float(input(\"Enter the first number: \"))\n",
        "num2 = float(input(\"Enter the second number: \"))\n",
        "\n",
        "if num1 > num2:\n",
        "    print(\"The first number is greater.\")\n",
        "elif num1 < num2:\n",
        "    print(\"The second number is greater.\")\n",
        "else:\n",
        "    print(\"Both numbers are equal.\")"
      ],
      "metadata": {
        "colab": {
          "base_uri": "https://localhost:8080/"
        },
        "id": "RogoCpnThVp2",
        "outputId": "e536ae5c-f763-438e-d715-76fa3129714b"
      },
      "execution_count": null,
      "outputs": [
        {
          "output_type": "stream",
          "name": "stdout",
          "text": [
            "Enter the first number: 5.5\n",
            "Enter the second number: 5.5\n",
            "Both numbers are equal.\n"
          ]
        }
      ]
    },
    {
      "cell_type": "markdown",
      "source": [
        "**Question 3**"
      ],
      "metadata": {
        "id": "a-wzoa-ShqSM"
      }
    },
    {
      "cell_type": "code",
      "source": [
        "temperature = float(input(\"Enter the temperature: \"))\n",
        "if temperature < 0:\n",
        "    print(\"It's freezing.\")\n",
        "elif temperature < 25:\n",
        "    print(\"It's cold.\")\n",
        "elif temperature < 35:\n",
        "    print(\"It's warm.\")\n",
        "else:\n",
        "    print(\"It's hot.\")\n"
      ],
      "metadata": {
        "colab": {
          "base_uri": "https://localhost:8080/"
        },
        "id": "75MHOCYZhs4Y",
        "outputId": "f4a9b293-4600-4ba6-c219-e77bbab335e2"
      },
      "execution_count": null,
      "outputs": [
        {
          "output_type": "stream",
          "name": "stdout",
          "text": [
            "Enter the temperature: 36\n",
            "It's hot.\n"
          ]
        }
      ]
    },
    {
      "cell_type": "markdown",
      "source": [
        "**Part 2**"
      ],
      "metadata": {
        "id": "N0UhH_tViLxb"
      }
    },
    {
      "cell_type": "code",
      "source": [
        "temperature = float(input(\"Enter the temperature: \"))\n",
        "if temperature < 0:\n",
        "    print(\"It's freezing.\")\n",
        "elif temperature < 25:\n",
        "    print(\"It's cold.\")\n",
        "elif temperature < 35:\n",
        "    print(\"It's warm.\")\n",
        "else:\n",
        "    print(\"It's hot.\")\n"
      ],
      "metadata": {
        "colab": {
          "base_uri": "https://localhost:8080/"
        },
        "id": "tiE9LcQTiLeN",
        "outputId": "15a24bb3-0dd6-42a1-d494-a2b3917e0a56"
      },
      "execution_count": null,
      "outputs": [
        {
          "output_type": "stream",
          "name": "stdout",
          "text": [
            "Enter the temperature: 36.5\n",
            "It's hot.\n"
          ]
        }
      ]
    },
    {
      "cell_type": "markdown",
      "source": [
        "**Part 3**"
      ],
      "metadata": {
        "id": "0m1nJT-Hiq2g"
      }
    },
    {
      "cell_type": "code",
      "source": [
        "temperature = int(input(\"Enter the temperature: \"))\n",
        "if temperature < 0:\n",
        "    print(\"It's freezing.\")\n",
        "elif temperature < 25:\n",
        "    print(\"It's cold.\")\n",
        "elif temperature < 35:\n",
        "    print(\"It's warm.\")\n",
        "else:\n",
        "    print(\"It's hot.\")\n"
      ],
      "metadata": {
        "colab": {
          "base_uri": "https://localhost:8080/"
        },
        "id": "SvRF5qrtivoA",
        "outputId": "5c3cdff4-7e97-4fec-c526-ce9eca3b7434"
      },
      "execution_count": null,
      "outputs": [
        {
          "output_type": "stream",
          "name": "stdout",
          "text": [
            "Enter the temperature: 24\n",
            "It's cold.\n"
          ]
        }
      ]
    },
    {
      "cell_type": "markdown",
      "source": [
        "**Question 4**"
      ],
      "metadata": {
        "id": "FM2dKOQ5i8Kl"
      }
    },
    {
      "cell_type": "code",
      "source": [
        "password = input(\"Enter the password: \")\n",
        "\n",
        "if password == \"password123\":\n",
        "    print(\"Access granted.\")\n",
        "else:\n",
        "    print(\"Access denied.\")"
      ],
      "metadata": {
        "colab": {
          "base_uri": "https://localhost:8080/"
        },
        "id": "KuUwyK3ii-1E",
        "outputId": "ab7a7c78-7603-46b4-e58f-fef5e50ac012"
      },
      "execution_count": null,
      "outputs": [
        {
          "output_type": "stream",
          "name": "stdout",
          "text": [
            "Enter the password: 123\n",
            "Access denied.\n"
          ]
        }
      ]
    },
    {
      "cell_type": "markdown",
      "source": [
        "**Question 5**"
      ],
      "metadata": {
        "id": "eQ8K3q0ejNYz"
      }
    },
    {
      "cell_type": "code",
      "source": [
        "time = int(input(\"Enter time in seconds: \"))\n",
        "\n",
        "hours = time // 3600\n",
        "minutes = (time % 3600) // 60\n",
        "seconds = (time % 3600) % 60\n",
        "\n",
        "print(\"Time:\", hours, \"hours,\", minutes, \"minutes,\", seconds, \"seconds\")"
      ],
      "metadata": {
        "colab": {
          "base_uri": "https://localhost:8080/"
        },
        "id": "HM7UhvIrjxic",
        "outputId": "a8d93f7f-bf51-4395-aa07-f16c99737efa"
      },
      "execution_count": null,
      "outputs": [
        {
          "output_type": "stream",
          "name": "stdout",
          "text": [
            "Enter time in seconds: 6\n",
            "Time: 0 hours, 0 minutes, 6 seconds\n"
          ]
        }
      ]
    },
    {
      "cell_type": "markdown",
      "source": [
        "**Part 2**"
      ],
      "metadata": {
        "id": "sNZs8r1HkORt"
      }
    },
    {
      "cell_type": "code",
      "source": [
        "time = int(input(\"Enter time in seconds: \"))\n",
        "\n",
        "hours = time // 3600\n",
        "minutes = (time % 3600) // 60\n",
        "seconds = (time % 3600) % 60\n",
        "\n",
        "print(\"Time:\", hours, \"hours,\", minutes, \"minutes,\", seconds, \"seconds\")"
      ],
      "metadata": {
        "colab": {
          "base_uri": "https://localhost:8080/"
        },
        "id": "Y3-rucoXkRUh",
        "outputId": "eb913175-f07c-46eb-f5b8-dbfb6b47b958"
      },
      "execution_count": null,
      "outputs": [
        {
          "output_type": "stream",
          "name": "stdout",
          "text": [
            "Enter time in seconds: 7\n",
            "Time: 0 hours, 0 minutes, 7 seconds\n"
          ]
        }
      ]
    },
    {
      "cell_type": "code",
      "source": [
        "time = float(input(\"Enter time in seconds: \"))\n",
        "\n",
        "hours = time // 3600\n",
        "minutes = (time % 3600) // 60\n",
        "seconds = (time % 3600) % 60\n",
        "\n",
        "print(\"Time:\", hours, \"hours,\", minutes, \"minutes,\", seconds, \"seconds\")"
      ],
      "metadata": {
        "colab": {
          "base_uri": "https://localhost:8080/"
        },
        "id": "NERHw5BAllMj",
        "outputId": "29422748-87ac-4025-a4f1-05bb08c9cf4b"
      },
      "execution_count": null,
      "outputs": [
        {
          "output_type": "stream",
          "name": "stdout",
          "text": [
            "Enter time in seconds: 4.5\n",
            "Time: 0.0 hours, 0.0 minutes, 4.5 seconds\n"
          ]
        }
      ]
    },
    {
      "cell_type": "markdown",
      "source": [
        "**Question 6**"
      ],
      "metadata": {
        "id": "abWd55xilvsb"
      }
    },
    {
      "cell_type": "code",
      "source": [
        "weight = float(input(\"Enter your weight in kilograms: \"))\n",
        "height = float(input(\"Enter your height in meters: \"))\n",
        "\n",
        "bmi = weight / (height ** 2)\n",
        "\n",
        "if bmi < 18.5:\n",
        "    category = \"Underweight\"\n",
        "elif bmi < 25:\n",
        "    category = \"Normal weight\"\n",
        "elif bmi < 30:\n",
        "    category = \"Overweight\"\n",
        "else:\n",
        "    category = \"Obese\"\n",
        "\n",
        "print(\"Your BMI is\", bmi)\n",
        "print(\"Category:\", category)"
      ],
      "metadata": {
        "colab": {
          "base_uri": "https://localhost:8080/"
        },
        "id": "R4-kq_Wrlyaq",
        "outputId": "319633e9-31bb-492f-cd3b-2d05280eb652"
      },
      "execution_count": null,
      "outputs": [
        {
          "output_type": "stream",
          "name": "stdout",
          "text": [
            "Enter your weight in kilograms: 29.5\n",
            "Enter your height in meters: 2\n",
            "Your BMI is 7.375\n",
            "Category: Underweight\n"
          ]
        }
      ]
    },
    {
      "cell_type": "markdown",
      "source": [
        "**Part 2**"
      ],
      "metadata": {
        "id": "-3pLLTTom-n_"
      }
    },
    {
      "cell_type": "code",
      "source": [
        "weight = int(input(\"Enter your weight in kilograms: \"))\n",
        "height = int(input(\"Enter your height in meters: \"))\n",
        "\n",
        "bmi = weight / (height ** 2)\n",
        "\n",
        "if bmi < 18:\n",
        "    category = \"Underweight\"\n",
        "elif bmi < 25:\n",
        "    category = \"Normal weight\"\n",
        "elif bmi < 30:\n",
        "    category = \"Overweight\"\n",
        "else:\n",
        "    category = \"Obese\"\n",
        "\n",
        "print(\"Your BMI is\", bmi)\n",
        "print(\"Category:\", category)"
      ],
      "metadata": {
        "colab": {
          "base_uri": "https://localhost:8080/"
        },
        "id": "Ec-_EAMLnA5Z",
        "outputId": "c240beb4-3f2e-408b-c8f6-2255bf7e8ec5"
      },
      "execution_count": null,
      "outputs": [
        {
          "output_type": "stream",
          "name": "stdout",
          "text": [
            "Enter your weight in kilograms: 17\n",
            "Enter your height in meters: 2\n",
            "Your BMI is 4.25\n",
            "Category: Underweight\n"
          ]
        }
      ]
    },
    {
      "cell_type": "markdown",
      "source": [
        "**Question 7**"
      ],
      "metadata": {
        "id": "Be2k4LzWoE5k"
      }
    },
    {
      "cell_type": "code",
      "source": [
        "side1 = float(input(\"Enter the length of the first side: \"))\n",
        "side2 = float(input(\"Enter the length of the second side: \"))\n",
        "side3 = float(input(\"Enter the length of the third side: \"))\n",
        "\n",
        "if side1 == side2 == side3:\n",
        "    print(\"Equilateral triangle\")\n",
        "elif side1 == side2 or side1 == side3 or side2 == side3:\n",
        "    print(\"Isosceles triangle\")\n",
        "else:\n",
        "    print(\"Scalene triangle\")"
      ],
      "metadata": {
        "colab": {
          "base_uri": "https://localhost:8080/"
        },
        "id": "3By6LXvxopMi",
        "outputId": "5103d8c5-42c7-44d9-b9ac-cce997611829"
      },
      "execution_count": null,
      "outputs": [
        {
          "output_type": "stream",
          "name": "stdout",
          "text": [
            "Enter the length of the first side: 2\n",
            "Enter the length of the second side: 4\n",
            "Enter the length of the third side: 6\n",
            "Scalene triangle\n"
          ]
        }
      ]
    },
    {
      "cell_type": "markdown",
      "source": [
        "**Part 2**"
      ],
      "metadata": {
        "id": "wN0EWvmco3iq"
      }
    },
    {
      "cell_type": "code",
      "source": [
        "side1 = float(input(\"Enter the length of the first side: \"))\n",
        "side2 = float(input(\"Enter the length of the second side: \"))\n",
        "side3 = float(input(\"Enter the length of the third side: \"))\n",
        "\n",
        "if side1 == side2 == side3:\n",
        "    print(\"Equilateral triangle\")\n",
        "elif side1 == side2 or side1 == side3 or side2 == side3:\n",
        "    print(\"Isosceles triangle\")\n",
        "else:\n",
        "    print(\"Scalene triangle\")"
      ],
      "metadata": {
        "colab": {
          "base_uri": "https://localhost:8080/"
        },
        "id": "1UzydMcso7E1",
        "outputId": "edc6fe49-75f0-4aa2-997c-f060102c5a50"
      },
      "execution_count": null,
      "outputs": [
        {
          "output_type": "stream",
          "name": "stdout",
          "text": [
            "Enter the length of the first side: 4.5\n",
            "Enter the length of the second side: 3.5\n",
            "Enter the length of the third side: 2.5\n",
            "Scalene triangle\n"
          ]
        }
      ]
    },
    {
      "cell_type": "markdown",
      "source": [
        "**Question 8**"
      ],
      "metadata": {
        "id": "yRvFGoq7qHXw"
      }
    },
    {
      "cell_type": "code",
      "source": [
        "age = int(input(\"Enter your age: \"))\n",
        "\n",
        "if age < 5:\n",
        "    ticket_price = 0\n",
        "elif age < 18:\n",
        "    ticket_price = 10\n",
        "elif age < 65:\n",
        "    ticket_price = 20\n",
        "else:\n",
        "    ticket_price = 15\n",
        "\n",
        "print(\"Your ticket price is $\", ticket_price)"
      ],
      "metadata": {
        "colab": {
          "base_uri": "https://localhost:8080/"
        },
        "id": "h9u7OWeEqLch",
        "outputId": "c075145a-a0f0-48c5-a5b2-0331562cae94"
      },
      "execution_count": null,
      "outputs": [
        {
          "output_type": "stream",
          "name": "stdout",
          "text": [
            "Enter your age: 64\n",
            "Your ticket price is $ 20\n"
          ]
        }
      ]
    },
    {
      "cell_type": "markdown",
      "source": [
        "**Part 2**"
      ],
      "metadata": {
        "id": "gapehHMEqWGF"
      }
    },
    {
      "cell_type": "code",
      "source": [
        "age = float(input(\"Enter your age: \"))\n",
        "\n",
        "if age < 5:\n",
        "    ticket_price = 0\n",
        "elif age < 18:\n",
        "    ticket_price = 10\n",
        "elif age < 65:\n",
        "    ticket_price = 20\n",
        "else:\n",
        "    ticket_price = 15\n",
        "\n",
        "print(\"Your ticket price is $\", ticket_price)"
      ],
      "metadata": {
        "colab": {
          "base_uri": "https://localhost:8080/"
        },
        "id": "-QTIINenqY3x",
        "outputId": "b161f4fe-3fc7-4078-cb66-419c9eaf7381"
      },
      "execution_count": null,
      "outputs": [
        {
          "output_type": "stream",
          "name": "stdout",
          "text": [
            "Enter your age: 17.5\n",
            "Your ticket price is $ 10\n"
          ]
        }
      ]
    },
    {
      "cell_type": "markdown",
      "source": [
        "**Question 9**"
      ],
      "metadata": {
        "id": "kvVXzHb5qkEe"
      }
    },
    {
      "cell_type": "code",
      "source": [
        "weight = float(input(\"Enter your weight in kilograms: \"))\n",
        "height = float(input(\"Enter your height in meters: \"))\n",
        "\n",
        "bmi = weight / (height ** 2)\n",
        "\n",
        "if bmi < 18.5:\n",
        "    category = \"Underweight\"\n",
        "elif bmi < 25:\n",
        "    category = \"Normal weight\"\n",
        "elif bmi < 30:\n",
        "    category = \"Overweight\"\n",
        "elif bmi < 35:\n",
        "    category = \"Obese Class I\"\n",
        "elif bmi < 40:\n",
        "    category = \"Obese Class II\"\n",
        "else:\n",
        "    category = \"Obese Class III\"\n",
        "\n",
        "print(\"Your BMI is\", bmi)\n",
        "print(\"Category:\", category)"
      ],
      "metadata": {
        "id": "FDzF9O4Vqn9f"
      },
      "execution_count": null,
      "outputs": []
    },
    {
      "cell_type": "markdown",
      "source": [
        "# **Different examples of (If) statement by python**"
      ],
      "metadata": {
        "id": "GKW7u6qMVyaN"
      }
    },
    {
      "cell_type": "markdown",
      "source": [
        "# **(1)**"
      ],
      "metadata": {
        "id": "iNC0L9AxZKYi"
      }
    },
    {
      "cell_type": "code",
      "source": [
        "Target = int(input(\"enter of numbers\"))\n",
        "if Target >= 90:\n",
        "    print(\"A\")\n",
        "elif Target >= 80:\n",
        "    print(\"B\")\n",
        "elif  Target >= 70:\n",
        "    print(\"C\")\n",
        "elif  Target >= 60:\n",
        "    print(\"D\")\n",
        "else:\n",
        "    print(\"F\")\n"
      ],
      "metadata": {
        "colab": {
          "base_uri": "https://localhost:8080/"
        },
        "id": "CP3SHztRWWjz",
        "outputId": "7b043a9b-7967-4ff3-9e9b-0ff0c543d7a2"
      },
      "execution_count": null,
      "outputs": [
        {
          "output_type": "stream",
          "name": "stdout",
          "text": [
            "enter of numbers89\n",
            "B\n"
          ]
        }
      ]
    },
    {
      "cell_type": "markdown",
      "source": [
        "# **(2)**"
      ],
      "metadata": {
        "id": "b6mt8b0VZetF"
      }
    },
    {
      "cell_type": "code",
      "source": [
        "a = 10\n",
        "b = 5\n",
        "c = 7\n",
        "\n",
        "if a > b and a > c:\n",
        "    largest = a\n",
        "elif b > a and b > c:\n",
        "    largest = b\n",
        "else:\n",
        "    largest = c\n",
        "\n",
        "print(\"The largest number is:\", largest)\n"
      ],
      "metadata": {
        "colab": {
          "base_uri": "https://localhost:8080/"
        },
        "id": "I6RpfDjOZsqM",
        "outputId": "1eafb5d0-df7b-48b2-afd2-42ad8b69eab8"
      },
      "execution_count": null,
      "outputs": [
        {
          "output_type": "stream",
          "name": "stdout",
          "text": [
            "The largest number is: 10\n"
          ]
        }
      ]
    },
    {
      "cell_type": "markdown",
      "source": [
        "#**(3)**"
      ],
      "metadata": {
        "id": "apJvjmbSbZqu"
      }
    },
    {
      "cell_type": "code",
      "source": [
        "a = 2\n",
        "b = 5\n",
        "c = 4\n",
        "\n",
        "if a < b and a < c:\n",
        "   smallest = a\n",
        "elif b > a and b > c:\n",
        "    smallest = b\n",
        "else:\n",
        "   highest = c\n",
        "\n",
        "print(\"The smallest number is:\", smallest)\n"
      ],
      "metadata": {
        "colab": {
          "base_uri": "https://localhost:8080/"
        },
        "id": "lnH6H3e-aJO-",
        "outputId": "5a4019a4-ec4c-456e-fbf7-d6d743f8840c"
      },
      "execution_count": null,
      "outputs": [
        {
          "output_type": "stream",
          "name": "stdout",
          "text": [
            "The smallest number is: 2\n"
          ]
        }
      ]
    },
    {
      "cell_type": "markdown",
      "source": [
        "# **(4)**"
      ],
      "metadata": {
        "id": "YlWO3I0cdkvs"
      }
    },
    {
      "cell_type": "code",
      "source": [
        "a = 6\n",
        "b = 5\n",
        "c = 4\n",
        "\n",
        "if a > b and a > c:\n",
        "   highest = a\n",
        "elif b < a and b > c:\n",
        "    highest = b\n",
        "else:\n",
        "   highest = c\n",
        "\n",
        "print(\"The highest number is:\", highest)\n"
      ],
      "metadata": {
        "colab": {
          "base_uri": "https://localhost:8080/"
        },
        "id": "cQKNrvyGc9bB",
        "outputId": "8864ce32-fed3-4416-d991-b4d0b0da6b9f"
      },
      "execution_count": null,
      "outputs": [
        {
          "output_type": "stream",
          "name": "stdout",
          "text": [
            "The highest number is: 6\n"
          ]
        }
      ]
    },
    {
      "cell_type": "markdown",
      "source": [
        "# **(5)**"
      ],
      "metadata": {
        "id": "e1YDhqjoqjSz"
      }
    },
    {
      "cell_type": "code",
      "source": [
        "weather = \"sunny\"\n",
        "temperature = 31\n",
        "\n",
        "if weather == \"sunny\" and temperature > 30:\n",
        "    print(\"It's a hot day.\")\n",
        "elif weather == \"sunny\" and temperature <= 30:\n",
        "    print(\"It's a pleasant day.\")\n",
        "elif weather == \"rainy\":\n",
        "    print(\"It's raining.\")\n",
        "else:\n",
        "    print(\"The weather is unknown.\")\n"
      ],
      "metadata": {
        "colab": {
          "base_uri": "https://localhost:8080/"
        },
        "id": "4bmUhpbecBUk",
        "outputId": "ae91d55e-a191-42b3-a092-93de58b26748"
      },
      "execution_count": null,
      "outputs": [
        {
          "output_type": "stream",
          "name": "stdout",
          "text": [
            "It's a hot day.\n"
          ]
        }
      ]
    },
    {
      "cell_type": "markdown",
      "source": [
        "# **(6)**"
      ],
      "metadata": {
        "id": "rD-LD73aqnnm"
      }
    },
    {
      "cell_type": "code",
      "source": [
        "weather = \"rainy\"\n",
        "temperature = 15\n",
        "\n",
        "if weather == \"sunny\" and temperature > 30:\n",
        "    print(\"It's a hot day.\")\n",
        "elif weather == \"sunny\" and temperature <= 30:\n",
        "    print(\"It's a pleasant day.\")\n",
        "elif weather == \"rainy\":\n",
        "    print(\"It's raining.\")\n",
        "else:\n",
        "    print(\"The weather is unknown.\")\n"
      ],
      "metadata": {
        "colab": {
          "base_uri": "https://localhost:8080/"
        },
        "id": "dpluBfbVcW_W",
        "outputId": "f52fba85-4f96-4b3f-be7d-7f6bea58ac27"
      },
      "execution_count": null,
      "outputs": [
        {
          "output_type": "stream",
          "name": "stdout",
          "text": [
            "It's raining.\n"
          ]
        }
      ]
    },
    {
      "cell_type": "markdown",
      "source": [
        "# **(7)**"
      ],
      "metadata": {
        "id": "a6XaKCx7qsLe"
      }
    },
    {
      "cell_type": "code",
      "source": [
        "x = 7\n",
        "if x > 10:\n",
        "    print(\"x is greater than 10\")\n",
        "elif x > 5:\n",
        "    print(\"x is greater than 5 but less than or equal to 10\")\n",
        "else:\n",
        "    print(\"x is less than or equal to 5\")\n"
      ],
      "metadata": {
        "colab": {
          "base_uri": "https://localhost:8080/"
        },
        "id": "IM2T0SRid9gI",
        "outputId": "25c38dc3-132d-41f0-8ea0-2c1da268f525"
      },
      "execution_count": null,
      "outputs": [
        {
          "output_type": "stream",
          "name": "stdout",
          "text": [
            "x is greater than 5 but less than or equal to 10\n"
          ]
        }
      ]
    },
    {
      "cell_type": "markdown",
      "source": [
        "# **(8)**"
      ],
      "metadata": {
        "id": "-O6VJNsNqxM5"
      }
    },
    {
      "cell_type": "code",
      "source": [
        "x = 11\n",
        "if x > 10:\n",
        "    print(\"x is greater than 10\")\n",
        "elif x > 5:\n",
        "    print(\"x is greater than 5 but less than or equal to 10\")\n",
        "else:\n",
        "    print(\"x is less than or equal to 5\")\n"
      ],
      "metadata": {
        "colab": {
          "base_uri": "https://localhost:8080/"
        },
        "id": "n2ytAkVHeFMa",
        "outputId": "929bb78d-9fbf-4103-e499-6185e3667645"
      },
      "execution_count": null,
      "outputs": [
        {
          "output_type": "stream",
          "name": "stdout",
          "text": [
            "x is greater than 10\n"
          ]
        }
      ]
    },
    {
      "cell_type": "markdown",
      "source": [
        "# **CHAPTER NO : 5**"
      ],
      "metadata": {
        "id": "-aiIwvWZUkda"
      }
    },
    {
      "cell_type": "markdown",
      "source": [
        "# **Statement :**\n",
        "write a program that accept the character and determines whether the character is a lowercase letter. A lowercase letter is any character that is greater than equal to 'a' and less than or equal to 'Z'. if the entered character is lowercase letter, display message \"Entered character is a lowercase letter\", otherwise display the message \"Entered character is not lowercase letter\"."
      ],
      "metadata": {
        "id": "isNSSx2d_cJS"
      }
    },
    {
      "cell_type": "code",
      "source": [
        "character = input(\"Enter a character: \")\n",
        "\n",
        "if 'a' <= character <= 'z':\n",
        "    print(\"Entered character is a lowercase letter\")\n",
        "else:\n",
        "    print(\"Entered character is not a lowercase letter\")\n"
      ],
      "metadata": {
        "colab": {
          "base_uri": "https://localhost:8080/"
        },
        "id": "IwLBCdPJJavs",
        "outputId": "9ce67853-b93b-4882-966a-2ffaefe90ccb"
      },
      "execution_count": null,
      "outputs": [
        {
          "output_type": "stream",
          "name": "stdout",
          "text": [
            "Enter a character: a\n",
            "Entered character is a lowercase letter\n"
          ]
        }
      ]
    },
    {
      "cell_type": "markdown",
      "source": [
        "# **Statement :**\n",
        "write a program that accept the character and determines whether the character is a lowercase letter. A lowercase letter is any character that is greater than equal to 'a' and less than or equal to 'Z'. if the entered character is lowercase letter, display message \"Entered character is a lowercase letter\", otherwise display the message \"Entered character is not lowercase letter\"."
      ],
      "metadata": {
        "id": "omO32v-NH8IM"
      }
    },
    {
      "cell_type": "code",
      "source": [
        "character = input(\"Enter a character: \")\n",
        "\n",
        "if 'a' <= character <= 'z':\n",
        "    print(\"Entered character is a lowercase letter\")\n",
        "else:\n",
        "    print(\"Entered character is not a lowercase letter\")\n"
      ],
      "metadata": {
        "colab": {
          "base_uri": "https://localhost:8080/"
        },
        "id": "vr-zX41M_RJr",
        "outputId": "4e17773d-072f-4938-b5ed-fef901b4513c"
      },
      "execution_count": null,
      "outputs": [
        {
          "output_type": "stream",
          "name": "stdout",
          "text": [
            "Enter a character: 2\n",
            "Entered character is not a lowercase letter\n"
          ]
        }
      ]
    },
    {
      "cell_type": "markdown",
      "source": [
        "# **Statement :**\n",
        "senior salesperson is paid Rs. 400 a week and a junior salesperson is paid Rs. 275 a week. Write a program that accepts  as input s salesperson's status in the character variable status. If status is 's' or 'S' , the senior persons salary should be displayed; if status is' j' or 'J' the junior person's salary should be displayed otherwise display error message"
      ],
      "metadata": {
        "id": "_mkVe-YkYLZD"
      }
    },
    {
      "cell_type": "code",
      "source": [
        "status = input(\"Enter the salesperson's status ('s' for senior, 'j' for junior): \")\n",
        "\n",
        "if status.lower() == 's':\n",
        "    salary = 400\n",
        "    print(\"The senior salesperson's salary is Rs.\", salary)\n",
        "\n",
        "elif status.lower() == 'j':\n",
        "    salary = 275\n",
        "    print(\"The junior salesperson's salary is Rs.\", salary)\n",
        "\n",
        "else:\n",
        "    print(\"Error: Invalid status. Please enter 's' for senior or 'j' for junior.\")\n"
      ],
      "metadata": {
        "colab": {
          "base_uri": "https://localhost:8080/"
        },
        "id": "1oX6T3UzYKL_",
        "outputId": "d25a9103-0b28-437f-8691-84b39ed9f2cd"
      },
      "execution_count": null,
      "outputs": [
        {
          "output_type": "stream",
          "name": "stdout",
          "text": [
            "Enter the salesperson's status ('s' for senior, 'j' for junior): s\n",
            "The senior salesperson's salary is Rs. 400\n"
          ]
        }
      ]
    },
    {
      "cell_type": "markdown",
      "source": [
        "# **Statement :**\n",
        " senior salesperson is paid Rs. 400 a week and a junior salesperson is paid Rs. 275 a week. Write a program that accepts  as input s salesperson's status in the character variable status. If status is 's' or 'S' , the senior persons salary should be displayed; if status is' j' or 'J' the junior person's salary should be displayed otherwise display error message"
      ],
      "metadata": {
        "id": "rfC4ghrIYmvx"
      }
    },
    {
      "cell_type": "code",
      "source": [
        "status = input(\"Enter the salesperson's status ('s' for senior, 'j' for junior): \")\n",
        "\n",
        "if status.lower() == 's':\n",
        "    salary = 400\n",
        "    print(\"The senior salesperson's salary is Rs.\", salary)\n",
        "\n",
        "elif status.lower() == 'j':\n",
        "    salary = 275\n",
        "    print(\"The junior salesperson's salary is Rs.\", salary)\n",
        "\n",
        "else:\n",
        "    print(\"Error: Invalid status. Please enter 's' for senior or 'j' for junior.\")\n"
      ],
      "metadata": {
        "colab": {
          "base_uri": "https://localhost:8080/"
        },
        "id": "qqxe8ua8Yh6Q",
        "outputId": "fbabce4d-ea40-4aa9-d981-68a5652a1ae9"
      },
      "execution_count": null,
      "outputs": [
        {
          "output_type": "stream",
          "name": "stdout",
          "text": [
            "Enter the salesperson's status ('s' for senior, 'j' for junior): j\n",
            "The junior salesperson's salary is Rs. 275\n"
          ]
        }
      ]
    },
    {
      "cell_type": "markdown",
      "source": [
        "\n",
        "write a program to get three numbers from users integer variable a, b and c. it is not zero, find out whether it is the common divisor of b and c"
      ],
      "metadata": {
        "id": "GkWWrU2fQhVO"
      }
    },
    {
      "cell_type": "code",
      "source": [
        "a = int(input(\"Enter the value for a: \"))\n",
        "b = int(input(\"Enter the value for b: \"))\n",
        "c = int(input(\"Enter the value for c: \"))\n",
        "\n",
        "# Check if a is a common divisor of b and c\n",
        "if a != 0 and b % a == 0 and c % a == 0:\n",
        "    print(f\"{a} is a common divisor of {b} and {c}\")\n",
        "else:\n",
        "    print(f\"{a} is not a common divisor of {b} and {c}\")\n"
      ],
      "metadata": {
        "colab": {
          "base_uri": "https://localhost:8080/"
        },
        "id": "Oth0VLU42hl6",
        "outputId": "1b5923e1-66b1-47e9-8da9-a9f38f6eb138"
      },
      "execution_count": null,
      "outputs": [
        {
          "output_type": "stream",
          "name": "stdout",
          "text": [
            "Enter the value for a: 2\n",
            "Enter the value for b: 4\n",
            "Enter the value for c: 6\n",
            "2 is a common divisor of 4 and 6\n"
          ]
        }
      ]
    },
    {
      "cell_type": "markdown",
      "source": [
        "# **Statement :**\n",
        "write a program to get three numbers from users integer variable a, b and c. it is not zero, find out whether it is the common divisor of b and c"
      ],
      "metadata": {
        "id": "vG2B9e2XBdjy"
      }
    },
    {
      "cell_type": "code",
      "source": [
        "a = int(input(\"Enter the value for a: \"))\n",
        "b = int(input(\"Enter the value for b: \"))\n",
        "c = int(input(\"Enter the value for c: \"))\n",
        "\n",
        "# Check if a is a common divisor of b and c\n",
        "if a != 0 and b % a == 0 and c % a == 0:\n",
        "    print(f\"{a} is a common divisor of {b} and {c}\")\n",
        "else:\n",
        "    print(f\"{a} is not a common divisor of {b} and {c}\")\n"
      ],
      "metadata": {
        "colab": {
          "base_uri": "https://localhost:8080/"
        },
        "id": "Y3eSEHnfIkfx",
        "outputId": "f650fd6b-3bb6-45aa-bb20-ba26366c0627"
      },
      "execution_count": null,
      "outputs": [
        {
          "output_type": "stream",
          "name": "stdout",
          "text": [
            "Enter the value for a: 4\n",
            "Enter the value for b: 2\n",
            "Enter the value for c: 1\n",
            "4 is not a common divisor of 2 and 1\n"
          ]
        }
      ]
    },
    {
      "cell_type": "markdown",
      "source": [
        "# **Statement :**\n",
        "Write a program that contains  an if statement that may be used to compute the area of a square (area =side*side) or a triangle (area=1/2 * base * height) after program to the user to type the first character of the figure name (S or T)"
      ],
      "metadata": {
        "id": "2ZBI3wOSTqUT"
      }
    },
    {
      "cell_type": "code",
      "source": [
        "figure = input(\"Enter the first character of the figure name (S or T): \")\n",
        "\n",
        "if figure.upper() == 'S':\n",
        "    side = float(input(\"Enter the length of the side of the square: \"))\n",
        "    area = side * side\n",
        "    print(\"The area of the square is:\", area)\n",
        "\n",
        "elif figure.upper() == 'T':\n",
        "    base = float(input(\"Enter the length of the base of the triangle: \"))\n",
        "    height = float(input(\"Enter the height of the triangle: \"))\n",
        "    area = 0.5 * base * height\n",
        "    print(\"The area of the triangle is:\", area)\n",
        "\n",
        "else:\n",
        "    print(\"Invalid input. Please enter 'S' for square or 'T' for triangle.\")\n"
      ],
      "metadata": {
        "colab": {
          "base_uri": "https://localhost:8080/"
        },
        "id": "WEyomG2JBEeB",
        "outputId": "07563e61-bcae-4a60-b2ca-8507045a8fb9"
      },
      "execution_count": null,
      "outputs": [
        {
          "output_type": "stream",
          "name": "stdout",
          "text": [
            "Enter the first character of the figure name (S or T): T\n",
            "Enter the length of the base of the triangle: 1.2\n",
            "Enter the height of the triangle: 1.3\n",
            "The area of the triangle is: 0.78\n"
          ]
        }
      ]
    },
    {
      "cell_type": "markdown",
      "source": [
        "# **Statement**\n",
        "Write a program that contains an if statement that may be used to compute the area of a square (area =side*side) or a triangle (area=1/2 * base * height) after program to the user to type the first character of the figure name (S or T)"
      ],
      "metadata": {
        "id": "IXM_Jmy2UZpH"
      }
    },
    {
      "cell_type": "code",
      "source": [
        "figure = input(\"Enter the first character of the figure name (S or T): \")\n",
        "\n",
        "if figure.upper() == 'S':\n",
        "    side = float(input(\"Enter the length of the side of the square: \"))\n",
        "    area = side * side\n",
        "    print(\"The area of the square is:\", area)\n",
        "\n",
        "elif figure.upper() == 'T':\n",
        "    base = float(input(\"Enter the length of the base of the triangle: \"))\n",
        "    height = float(input(\"Enter the height of the triangle: \"))\n",
        "    area = 0.5 * base * height\n",
        "    print(\"The area of the triangle is:\", area)\n",
        "\n",
        "else:\n",
        "    print(\"Invalid input. Please enter 'S' for square or 'T' for triangle.\")\n"
      ],
      "metadata": {
        "colab": {
          "base_uri": "https://localhost:8080/"
        },
        "id": "8y902VP4UKD-",
        "outputId": "e5f7ae55-0cb2-4a57-86e1-9ddcf19b406a"
      },
      "execution_count": null,
      "outputs": [
        {
          "output_type": "stream",
          "name": "stdout",
          "text": [
            "Enter the first character of the figure name (S or T): 2\n",
            "Invalid input. Please enter 'S' for square or 'T' for triangle.\n"
          ]
        }
      ]
    },
    {
      "cell_type": "markdown",
      "source": [
        "# **Statement :**\n",
        "write a program that gets the number and a letter. if the letter is 'f' , the program should treat the number entered as temperature in degrees fahrenheit and convert it to the temperature in degree and celsius and print and suitable message. if the letter 'c' the program should consider the number as celsius temperature and convert it to fahrenheit temperature and print a suitable message. the program should display error message and then exit if the user enters any other letter"
      ],
      "metadata": {
        "id": "fxa-RBvebnSr"
      }
    },
    {
      "cell_type": "code",
      "source": [
        "number = float(input(\"Enter the temperature: \"))\n",
        "letter = input(\"Enter 'f' for Fahrenheit or 'c' for Celsius: \")\n",
        "\n",
        "if letter.lower() == 'f':\n",
        "    celsius = (number - 32) * 5/9\n",
        "    print(f\"{number} degrees Fahrenheit is equivalent to {celsius:.2f} degrees Celsius.\")\n",
        "\n",
        "elif letter.lower() == 'c':\n",
        "    fahrenheit = (number * 9/5) + 32\n",
        "    print(f\"{number} degrees Celsius is equivalent to {fahrenheit:.2f} degrees Fahrenheit.\")\n",
        "\n",
        "else:\n",
        "    print(\"Error: Invalid input. Please enter 'f' for Fahrenheit or 'c' for Celsius.\")\n"
      ],
      "metadata": {
        "colab": {
          "base_uri": "https://localhost:8080/"
        },
        "id": "p7LGAeuFbxPV",
        "outputId": "ed100ae1-1a16-488f-d5aa-439a1d2136ad"
      },
      "execution_count": null,
      "outputs": [
        {
          "output_type": "stream",
          "name": "stdout",
          "text": [
            "Enter the temperature: 35\n",
            "Enter 'f' for Fahrenheit or 'c' for Celsius: c\n",
            "35.0 degrees Celsius is equivalent to 95.00 degrees Fahrenheit.\n"
          ]
        }
      ]
    },
    {
      "cell_type": "markdown",
      "source": [
        "# **Statement :**\n",
        "write a program that gets the number and a letter. if the letter is 'f' , the program should treat the number entered as temperature in degrees fahrenheit and convert it to the temperature in degree and celsius and print and suitable message. if the letter 'c' the program should consider the number as celsius temperature and convert it to fahrenheit temperature and print a suitable message. the program should display error message and then exit if the user enters any other letter\n"
      ],
      "metadata": {
        "id": "yB6JVoSScGI6"
      }
    },
    {
      "cell_type": "code",
      "source": [
        "number = float(input(\"Enter the temperature: \"))\n",
        "letter = input(\"Enter 'f' for Fahrenheit or 'c' for Celsius: \")\n",
        "\n",
        "if letter.lower() == 'f':\n",
        "    celsius = (number - 32) * 5/9\n",
        "    print(f\"{number} degrees Fahrenheit is equivalent to {celsius:.2f} degrees Celsius.\")\n",
        "\n",
        "elif letter.lower() == 'c':\n",
        "    fahrenheit = (number * 9/5) + 32\n",
        "    print(f\"{number} degrees Celsius is equivalent to {fahrenheit:.2f} degrees Fahrenheit.\")\n",
        "\n",
        "else:\n",
        "    print(\"Error: Invalid input. Please enter 'f' for Fahrenheit or 'c' for Celsius.\")\n"
      ],
      "metadata": {
        "colab": {
          "base_uri": "https://localhost:8080/"
        },
        "id": "e_R9_WmucAFh",
        "outputId": "f9ca4c2d-797d-4ebe-a648-5b46341d59f8"
      },
      "execution_count": null,
      "outputs": [
        {
          "output_type": "stream",
          "name": "stdout",
          "text": [
            "Enter the temperature: 30\n",
            "Enter 'f' for Fahrenheit or 'c' for Celsius: f\n",
            "30.0 degrees Fahrenheit is equivalent to -1.11 degrees Celsius.\n"
          ]
        }
      ]
    },
    {
      "cell_type": "markdown",
      "source": [
        "# **Statement :**\n",
        "write a program that accepts the code as an input and display the correct disk drive manufacture as follows: code disk drive manufacture 1 western digital 2 3M corporation 4 sony corporation 5 verbatim corporation"
      ],
      "metadata": {
        "id": "JvP4T9SJj3zt"
      }
    },
    {
      "cell_type": "code",
      "source": [
        "print(\"Movie Categories:\")\n",
        "print(\"A - Adventure Movies\")\n",
        "print(\"C - Comedy Movies\")\n",
        "print(\"F - Family Movies\")\n",
        "print(\"H - Horror Movies\")\n",
        "print(\"S - Science Fiction Movies\")\n",
        "\n",
        "code = input(\"Enter the code for the movie type: \")\n",
        "\n",
        "if code.lower() == 'a':\n",
        "    print(\"Adventure Movies\")\n",
        "\n",
        "elif code.lower() == 'c':\n",
        "    print(\"Comedy Movies\")\n",
        "\n",
        "elif code.lower() == 'f':\n",
        "    print(\"Family Movies\")\n",
        "\n",
        "elif code.lower() == 'h':\n",
        "    print(\"Horror Movies\")\n",
        "\n",
        "elif code.lower() == 's':\n",
        "    print(\"Science Fiction Movies\")\n",
        "\n",
        "else:\n",
        "    print(\"Invalid code. Please enter a valid movie type code.\")\n"
      ],
      "metadata": {
        "colab": {
          "base_uri": "https://localhost:8080/"
        },
        "id": "yQeuvz2Gj9Xl",
        "outputId": "a855beb2-59dd-49a2-a5e8-96824332e52b"
      },
      "execution_count": null,
      "outputs": [
        {
          "output_type": "stream",
          "name": "stdout",
          "text": [
            "Movie Categories:\n",
            "A - Adventure Movies\n",
            "C - Comedy Movies\n",
            "F - Family Movies\n",
            "H - Horror Movies\n",
            "S - Science Fiction Movies\n",
            "Enter the code for the movie type: a\n",
            "Adventure Movies\n"
          ]
        }
      ]
    },
    {
      "cell_type": "code",
      "source": [
        "print(\"Movie Categories:\")\n",
        "print(\"A - Adventure Movies\")\n",
        "print(\"C - Comedy Movies\")\n",
        "print(\"F - Family Movies\")\n",
        "print(\"H - Horror Movies\")\n",
        "print(\"S - Science Fiction Movies\")\n",
        "\n",
        "code = input(\"Enter the code for the movie type: \")\n",
        "\n",
        "if code.lower() == 'a':\n",
        "    print(\"Adventure Movies\")\n",
        "\n",
        "elif code.lower() == 'c':\n",
        "    print(\"Comedy Movies\")\n",
        "\n",
        "elif code.lower() == 'f':\n",
        "    print(\"Family Movies\")\n",
        "\n",
        "elif code.lower() == 'h':\n",
        "    print(\"Horror Movies\")\n",
        "\n",
        "elif code.lower() == 's':\n",
        "    print(\"Science Fiction Movies\")\n",
        "\n",
        "else:\n",
        "    print(\"Invalid code. Please enter a valid movie type code.\")\n"
      ],
      "metadata": {
        "colab": {
          "base_uri": "https://localhost:8080/"
        },
        "id": "nS5b6svrj_7b",
        "outputId": "23907d5e-8049-45a5-b692-cd0914ff329a"
      },
      "execution_count": null,
      "outputs": [
        {
          "output_type": "stream",
          "name": "stdout",
          "text": [
            "Movie Categories:\n",
            "A - Adventure Movies\n",
            "C - Comedy Movies\n",
            "F - Family Movies\n",
            "H - Horror Movies\n",
            "S - Science Fiction Movies\n",
            "Enter the code for the movie type: s\n",
            "Science Fiction Movies\n"
          ]
        }
      ]
    },
    {
      "cell_type": "markdown",
      "source": [
        "# **Statement :**\n",
        "write a program that accepts the code as an input and display the correct disk drive manufacture as follows: code disk drive manufacture 1 western digital 2 3M corporation 4 sony corporation 5 verbatim corporation"
      ],
      "metadata": {
        "id": "7qEKQQy1k3d7"
      }
    },
    {
      "cell_type": "code",
      "source": [
        "print(\"Disk Drive Manufacturers:\")\n",
        "print(\"1 - Western Digital\")\n",
        "print(\"2 - 3M Corporation\")\n",
        "print(\"4 - Sony Corporation\")\n",
        "print(\"5 - Verbatim Corporation\")\n",
        "\n",
        "code = input(\"Enter the code for the disk drive manufacturer: \")\n",
        "\n",
        "if code == '1':\n",
        "    print(\"Disk Drive Manufacturer: Western Digital\")\n",
        "\n",
        "elif code == '2':\n",
        "    print(\"Disk Drive Manufacturer: 3M Corporation\")\n",
        "\n",
        "elif code == '4':\n",
        "    print(\"Disk Drive Manufacturer: Sony Corporation\")\n",
        "\n",
        "elif code == '5':\n",
        "    print(\"Disk Drive Manufacturer: Verbatim Corporation\")\n",
        "\n",
        "else:\n",
        "    print(\"Invalid code. Please enter a valid disk drive manufacturer code.\")\n"
      ],
      "metadata": {
        "colab": {
          "base_uri": "https://localhost:8080/"
        },
        "id": "6f5kXAMKko6n",
        "outputId": "232a04f4-3589-4646-9ba6-8fc616938460"
      },
      "execution_count": null,
      "outputs": [
        {
          "output_type": "stream",
          "name": "stdout",
          "text": [
            "Disk Drive Manufacturers:\n",
            "1 - Western Digital\n",
            "2 - 3M Corporation\n",
            "4 - Sony Corporation\n",
            "5 - Verbatim Corporation\n",
            "Enter the code for the disk drive manufacturer: 4\n",
            "Disk Drive Manufacturer: Sony Corporation\n"
          ]
        }
      ]
    },
    {
      "cell_type": "markdown",
      "source": [
        "# **Statement :**\n",
        "write a program that accepts the code as an input and display the correct disk drive manufacture as follows: code disk drive manufacture 1 western digital 2 3M corporation 4 sony corporation 5 verbatim corporation"
      ],
      "metadata": {
        "id": "NRwNy5hyk7Y4"
      }
    },
    {
      "cell_type": "code",
      "source": [
        "print(\"Disk Drive Manufacturers:\")\n",
        "print(\"1 - Western Digital\")\n",
        "print(\"2 - 3M Corporation\")\n",
        "print(\"4 - Sony Corporation\")\n",
        "print(\"5 - Verbatim Corporation\")\n",
        "\n",
        "code = input(\"Enter the code for the disk drive manufacturer: \")\n",
        "\n",
        "if code == '1':\n",
        "    print(\"Disk Drive Manufacturer: Western Digital\")\n",
        "\n",
        "elif code == '2':\n",
        "    print(\"Disk Drive Manufacturer: 3M Corporation\")\n",
        "\n",
        "elif code == '4':\n",
        "    print(\"Disk Drive Manufacturer: Sony Corporation\")\n",
        "\n",
        "elif code == '5':\n",
        "    print(\"Disk Drive Manufacturer: Verbatim Corporation\")\n",
        "\n",
        "else:\n",
        "    print(\"Invalid code. Please enter a valid disk drive manufacturer code.\")\n"
      ],
      "metadata": {
        "colab": {
          "base_uri": "https://localhost:8080/"
        },
        "id": "IOfTE1RKk_BL",
        "outputId": "ce1c524f-4f8a-4951-adae-7222edb21db6"
      },
      "execution_count": null,
      "outputs": [
        {
          "output_type": "stream",
          "name": "stdout",
          "text": [
            "Disk Drive Manufacturers:\n",
            "1 - Western Digital\n",
            "2 - 3M Corporation\n",
            "4 - Sony Corporation\n",
            "5 - Verbatim Corporation\n",
            "Enter the code for the disk drive manufacturer: 1\n",
            "Disk Drive Manufacturer: Western Digital\n"
          ]
        }
      ]
    },
    {
      "cell_type": "markdown",
      "source": [
        "# **Statement :**\n",
        "write a program that accepts the code as an input and display the correct disk drive manufacture as follows: code disk drive manufacture 1 western digital 2 3M corporation 4 sony corporation 5 verbatim corporation"
      ],
      "metadata": {
        "id": "cx5QETA4lJXN"
      }
    },
    {
      "cell_type": "code",
      "source": [
        "print(\"Disk Drive Manufacturers:\")\n",
        "print(\"1 - Western Digital\")\n",
        "print(\"2 - 3M Corporation\")\n",
        "print(\"4 - Sony Corporation\")\n",
        "print(\"5 - Verbatim Corporation\")\n",
        "\n",
        "code = input(\"Enter the code for the disk drive manufacturer: \")\n",
        "\n",
        "if code == '1':\n",
        "    print(\"Disk Drive Manufacturer: Western Digital\")\n",
        "\n",
        "elif code == '2':\n",
        "    print(\"Disk Drive Manufacturer: 3M Corporation\")\n",
        "\n",
        "elif code == '4':\n",
        "    print(\"Disk Drive Manufacturer: Sony Corporation\")\n",
        "\n",
        "elif code == '5':\n",
        "    print(\"Disk Drive Manufacturer: Verbatim Corporation\")\n",
        "\n",
        "else:\n",
        "    print(\"Invalid code. Please enter a valid disk drive manufacturer code.\")\n"
      ],
      "metadata": {
        "colab": {
          "base_uri": "https://localhost:8080/"
        },
        "id": "bjOzh5cQlB_B",
        "outputId": "134964e3-4bd1-4ca4-9f61-dc71ee4637ce"
      },
      "execution_count": null,
      "outputs": [
        {
          "output_type": "stream",
          "name": "stdout",
          "text": [
            "Disk Drive Manufacturers:\n",
            "1 - Western Digital\n",
            "2 - 3M Corporation\n",
            "4 - Sony Corporation\n",
            "5 - Verbatim Corporation\n",
            "Enter the code for the disk drive manufacturer: 6\n",
            "Invalid code. Please enter a valid disk drive manufacturer code.\n"
          ]
        }
      ]
    },
    {
      "cell_type": "markdown",
      "source": [
        "# **Statement :**\n",
        "write a program that uses the following categories of movies:  A for adventure movies C for comedy movies F for family movies H for horror movies S for science fiction movies the program inputs code for movie type and display s its categories. for example  if the user enters H, it displays \"Horror Movies\". the program should also display a menu of movie categories"
      ],
      "metadata": {
        "id": "zAJ9UcW5g20Y"
      }
    },
    {
      "cell_type": "code",
      "source": [
        "print(\"Movie Categories:\")\n",
        "print(\"A - Adventure Movies\")\n",
        "print(\"C - Comedy Movies\")\n",
        "print(\"F - Family Movies\")\n",
        "print(\"H - Horror Movies\")\n",
        "print(\"S - Science Fiction Movies\")\n",
        "\n",
        "code = input(\"Enter the code for the movie type: \")\n",
        "\n",
        "if code.lower() == 'a':\n",
        "    print(\"Adventure Movies\")\n",
        "\n",
        "elif code.lower() == 'c':\n",
        "    print(\"Comedy Movies\")\n",
        "\n",
        "elif code.lower() == 'f':\n",
        "    print(\"Family Movies\")\n",
        "\n",
        "elif code.lower() == 'h':\n",
        "    print(\"Horror Movies\")\n",
        "\n",
        "elif code.lower() == 's':\n",
        "    print(\"Science Fiction Movies\")\n",
        "\n",
        "else:\n",
        "    print(\"Invalid code. Please enter a valid movie type code.\")\n"
      ],
      "metadata": {
        "colab": {
          "base_uri": "https://localhost:8080/"
        },
        "id": "Cc-2qEpbhCyS",
        "outputId": "161355d7-ac44-492a-f5cf-e98f78707354"
      },
      "execution_count": null,
      "outputs": [
        {
          "output_type": "stream",
          "name": "stdout",
          "text": [
            "Movie Categories:\n",
            "A - Adventure Movies\n",
            "C - Comedy Movies\n",
            "F - Family Movies\n",
            "H - Horror Movies\n",
            "S - Science Fiction Movies\n",
            "Enter the code for the movie type: h\n",
            "Horror Movies\n"
          ]
        }
      ]
    },
    {
      "cell_type": "markdown",
      "source": [
        "# **Statement :**\n",
        "write a program that uses the following categories of movies: A for adventure movies C for comedy movies F for family movies H for horror movies S for science fiction movies the program inputs code for movie type and display s its categories. for example if the user enters H, it displays \"Horror Movies\". the program should also display a menu of movie categories"
      ],
      "metadata": {
        "id": "7mfo2dx4hmmV"
      }
    },
    {
      "cell_type": "code",
      "source": [
        "print(\"Movie Categories:\")\n",
        "print(\"A - Adventure Movies\")\n",
        "print(\"C - Comedy Movies\")\n",
        "print(\"F - Family Movies\")\n",
        "print(\"H - Horror Movies\")\n",
        "print(\"S - Science Fiction Movies\")\n",
        "\n",
        "code = input(\"Enter the code for the movie type: \")\n",
        "\n",
        "if code.lower() == 'a':\n",
        "    print(\"Adventure Movies\")\n",
        "\n",
        "elif code.lower() == 'c':\n",
        "    print(\"Comedy Movies\")\n",
        "\n",
        "elif code.lower() == 'f':\n",
        "    print(\"Family Movies\")\n",
        "\n",
        "elif code.lower() == 'h':\n",
        "    print(\"Horror Movies\")\n",
        "\n",
        "elif code.lower() == 's':\n",
        "    print(\"Science Fiction Movies\")\n",
        "\n",
        "else:\n",
        "    print(\"Invalid code. Please enter a valid movie type code.\")\n"
      ],
      "metadata": {
        "colab": {
          "base_uri": "https://localhost:8080/"
        },
        "id": "RVRxA2tbheyI",
        "outputId": "dd8c4e5c-0efa-49aa-ffab-39a44d02ce9b"
      },
      "execution_count": null,
      "outputs": [
        {
          "output_type": "stream",
          "name": "stdout",
          "text": [
            "Movie Categories:\n",
            "A - Adventure Movies\n",
            "C - Comedy Movies\n",
            "F - Family Movies\n",
            "H - Horror Movies\n",
            "S - Science Fiction Movies\n",
            "Enter the code for the movie type: g\n",
            "Invalid code. Please enter a valid movie type code.\n"
          ]
        }
      ]
    },
    {
      "cell_type": "markdown",
      "source": [
        "# **Statement :**\n",
        "write a program that inputs a value and type of conversion. the program should then output the value after conversion. the program should include the following conversions:   1 inch= 2.54 centimeters  1 gallon=3.785"
      ],
      "metadata": {
        "id": "e1Tf06imd4jC"
      }
    },
    {
      "cell_type": "code",
      "source": [
        "value = float(input(\"Enter the value to convert: \"))\n",
        "conversion_type = input(\"Enter the type of conversion ('i' for inch to centimeter, 'g' for gallon to liter): \")\n",
        "\n",
        "if conversion_type.lower() == 'i':\n",
        "    centimeters = value * 2.54\n",
        "    print(f\"{value} inch is equivalent to {centimeters:.2f} centimeters.\")\n",
        "\n",
        "elif conversion_type.lower() == 'g':\n",
        "    liters = value * 3.785\n",
        "    print(f\"{value} gallon is equivalent to {liters:.2f} liters.\")\n",
        "\n",
        "else:\n",
        "    print(\"Error: Invalid conversion type. Please enter 'i' for inch to centimeter or 'g' for gallon to liter.\")\n"
      ],
      "metadata": {
        "colab": {
          "base_uri": "https://localhost:8080/"
        },
        "id": "_ORyA2nldmoF",
        "outputId": "00cdcb26-4a1f-44c6-dceb-6d193ce80b9e"
      },
      "execution_count": null,
      "outputs": [
        {
          "output_type": "stream",
          "name": "stdout",
          "text": [
            "Enter the value to convert: 2.54\n",
            "Enter the type of conversion ('i' for inch to centimeter, 'g' for gallon to liter): i\n",
            "2.54 inch is equivalent to 6.45 centimeters.\n"
          ]
        }
      ]
    },
    {
      "cell_type": "markdown",
      "source": [
        "# **Statement :**\n",
        "write a program that inputs a value and type of conversion. the program should then output the value after conversion. the program should include the following conversions: 1 inch= 2.54 centimeters 1 gallon=3.785"
      ],
      "metadata": {
        "id": "c1px_LmheNmt"
      }
    },
    {
      "cell_type": "code",
      "source": [
        "value = float(input(\"Enter the value to convert: \"))\n",
        "conversion_type = input(\"Enter the type of conversion ('i' for inch to centimeter, 'g' for gallon to liter): \")\n",
        "\n",
        "if conversion_type.lower() == 'i':\n",
        "    centimeters = value * 2.54\n",
        "    print(f\"{value} inch is equivalent to {centimeters:.2f} centimeters.\")\n",
        "\n",
        "elif conversion_type.lower() == 'g':\n",
        "    liters = value * 3.785\n",
        "    print(f\"{value} gallon is equivalent to {liters:.2f} liters.\")\n",
        "\n",
        "else:\n",
        "    print(\"Error: Invalid conversion type. Please enter 'i' for inch to centimeter or 'g' for gallon to liter.\")\n"
      ],
      "metadata": {
        "colab": {
          "base_uri": "https://localhost:8080/"
        },
        "id": "ipCjMiPWeEkM",
        "outputId": "790c29fc-5608-43df-cd28-96f0d6e04f93"
      },
      "execution_count": null,
      "outputs": [
        {
          "output_type": "stream",
          "name": "stdout",
          "text": [
            "Enter the value to convert: 3.785\n",
            "Enter the type of conversion ('i' for inch to centimeter, 'g' for gallon to liter): g\n",
            "3.785 gallon is equivalent to 14.33 liters.\n"
          ]
        }
      ]
    },
    {
      "cell_type": "code",
      "source": [],
      "metadata": {
        "id": "5kJUWNo5c6wN"
      },
      "execution_count": null,
      "outputs": []
    }
  ]
}